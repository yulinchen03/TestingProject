{
 "cells": [
  {
   "cell_type": "code",
   "execution_count": 41,
   "id": "initial_id",
   "metadata": {
    "collapsed": true,
    "ExecuteTime": {
     "end_time": "2025-01-18T19:31:56.475652900Z",
     "start_time": "2025-01-18T19:31:56.473642400Z"
    }
   },
   "outputs": [],
   "source": [
    "import pandas as pd\n",
    "import numpy as np\n",
    "import onnxruntime as ort"
   ]
  },
  {
   "cell_type": "code",
   "execution_count": 42,
   "outputs": [],
   "source": [
    "# Load dataset\n",
    "data_path = \"../../../data/synth_data_test_labeled.csv\"  # Update to your dataset path\n",
    "data = pd.read_csv(data_path)\n",
    "\n",
    "# Load ONNX runtime model\n",
    "model_path = \"../../../model/model_1.onnx\"  # Update to your ONNX model path\n",
    "session = ort.InferenceSession(model_path)"
   ],
   "metadata": {
    "collapsed": false,
    "ExecuteTime": {
     "end_time": "2025-01-18T19:32:02.840755500Z",
     "start_time": "2025-01-18T19:31:56.475652900Z"
    }
   },
   "id": "eeedd76b31f1c382"
  },
  {
   "cell_type": "code",
   "execution_count": 43,
   "outputs": [],
   "source": [
    "# Configuration\n",
    "feature_to_modify = \"persoon_leeftijd_bij_onderzoek\"\n",
    "delta = 1  # Step size for hill climbing"
   ],
   "metadata": {
    "collapsed": false,
    "ExecuteTime": {
     "end_time": "2025-01-18T19:32:02.849024200Z",
     "start_time": "2025-01-18T19:32:02.839749700Z"
    }
   },
   "id": "a4ad31ceeae29d07"
  },
  {
   "cell_type": "code",
   "execution_count": 44,
   "outputs": [],
   "source": [
    "# Helper function to make predictions\n",
    "def predict_with_model(row):\n",
    "    inputs = {session.get_inputs()[0].name: np.array(row).astype(np.float32).reshape(1, -1)}\n",
    "    outputs = session.run(None, inputs)\n",
    "    return outputs[1][0][0], outputs[1][0][1]  # Confidence for class 0 and class 1"
   ],
   "metadata": {
    "collapsed": false,
    "ExecuteTime": {
     "end_time": "2025-01-18T19:32:02.859975300Z",
     "start_time": "2025-01-18T19:32:02.842810900Z"
    }
   },
   "id": "3d3630398d23a95b"
  },
  {
   "cell_type": "code",
   "execution_count": 45,
   "outputs": [],
   "source": [
    "# Randomly select a sample from the dataset\n",
    "sample = data.sample(1).iloc[0]"
   ],
   "metadata": {
    "collapsed": false,
    "ExecuteTime": {
     "end_time": "2025-01-18T19:32:02.872801600Z",
     "start_time": "2025-01-18T19:32:02.859975300Z"
    }
   },
   "id": "e0c466d209b52d57"
  },
  {
   "cell_type": "code",
   "execution_count": 46,
   "outputs": [
    {
     "name": "stdout",
     "output_type": "stream",
     "text": [
      "Original feature value: 49.0\n",
      "Original confidence: (0.5600000619888306, 0.4399999678134918)\n"
     ]
    }
   ],
   "source": [
    "original_value = sample[feature_to_modify]\n",
    "original_row = sample.drop(['Ja', 'Nee'])  # Exclude the confidence columns\n",
    "original_conf_0, original_conf_1 = predict_with_model(original_row)\n",
    "\n",
    "print(f'Original feature value: {original_value}')\n",
    "print(f'Original confidence: {original_conf_0, original_conf_1}')"
   ],
   "metadata": {
    "collapsed": false,
    "ExecuteTime": {
     "end_time": "2025-01-18T19:32:02.873301500Z",
     "start_time": "2025-01-18T19:32:02.867338200Z"
    }
   },
   "id": "61c8cd9252955582"
  },
  {
   "cell_type": "code",
   "execution_count": 47,
   "outputs": [],
   "source": [
    "# fitness function proposed by [A. Bartlett et al, SBFT 2023], outputs new confidence gap o1\n",
    "def fitness_func(old_conf_0, old_conf_1, new_conf_0, new_conf_1):\n",
    "    if old_conf_0 > old_conf_1 and new_conf_0 > new_conf_1:  # prediction not flipped\n",
    "        return new_conf_0 - new_conf_1\n",
    "    elif old_conf_1 > old_conf_0 and new_conf_1 > new_conf_0: # prediction not flipped\n",
    "        return new_conf_1 - new_conf_0\n",
    "    elif old_conf_0 > old_conf_1 and new_conf_1 > new_conf_0:\n",
    "        return -1 * new_conf_1\n",
    "    elif old_conf_1 > old_conf_0 and new_conf_0 > new_conf_1:\n",
    "        return -1 * new_conf_0\n",
    "    else:\n",
    "        return ValueError"
   ],
   "metadata": {
    "collapsed": false,
    "ExecuteTime": {
     "end_time": "2025-01-18T19:32:02.886454Z",
     "start_time": "2025-01-18T19:32:02.874301900Z"
    }
   },
   "id": "153212d19802195c"
  },
  {
   "cell_type": "code",
   "execution_count": 48,
   "outputs": [],
   "source": [
    "# Hillclimbing setup\n",
    "old_conf_0, old_conf_1 = original_conf_0, original_conf_1\n",
    "best_value = original_value\n",
    "o1_original = fitness_func(original_conf_0, original_conf_1, original_conf_0, original_conf_1)\n",
    "o1_current = o1_original\n",
    "best_conf_0, best_conf_1 = original_conf_0, original_conf_1"
   ],
   "metadata": {
    "collapsed": false,
    "ExecuteTime": {
     "end_time": "2025-01-18T19:32:02.911307500Z",
     "start_time": "2025-01-18T19:32:02.880892200Z"
    }
   },
   "id": "986b63b3ee20aa2f"
  },
  {
   "cell_type": "code",
   "execution_count": 49,
   "outputs": [
    {
     "name": "stdout",
     "output_type": "stream",
     "text": [
      "----------------------------------\n",
      "Current value: 49.0\n",
      "Exploring neighbors: (48.0, 50.0)\n",
      "o1_current: 0.12000009417533875\n",
      "0.5500000715255737 0.44999995827674866\n",
      "Improvement with modified value 48.0. o1: 0.10000011324882507\n",
      "----------------------------------\n",
      "Current value: 48.0\n",
      "Exploring neighbors: (47.0, 49.0)\n",
      "o1_current: 0.10000011324882507\n",
      "0.5500000715255737 0.44999995827674866\n",
      "No improvement detected\n",
      "----------------------------------\n",
      "Current value: 48.0\n",
      "Exploring neighbors: (46.0, 50.0)\n",
      "o1_current: 0.10000011324882507\n",
      "0.5400000810623169 0.4599999487400055\n",
      "Improvement with modified value 46.0. o1: 0.0800001323223114\n",
      "----------------------------------\n",
      "Current value: 46.0\n",
      "Exploring neighbors: (44.0, 48.0)\n",
      "o1_current: 0.0800001323223114\n",
      "0.5000000596046448 0.4999999403953552\n",
      "Improvement with modified value 44.0. o1: 1.1920928955078125e-07\n",
      "----------------------------------\n",
      "Current value: 44.0\n",
      "Exploring neighbors: (42.0, 46.0)\n",
      "o1_current: 1.1920928955078125e-07\n",
      "0.4800000786781311 0.5199999213218689\n",
      "Improvement with modified value 42.0. o1: -0.5199999213218689\n",
      "----------------------------------\n",
      "Current value: 42.0\n",
      "Exploring neighbors: (40.0, 44.0)\n",
      "o1_current: -0.5199999213218689\n",
      "0.47000008821487427 0.5299999117851257\n",
      "Improvement with modified value 40.0. o1: -0.5299999117851257\n",
      "----------------------------------\n",
      "Current value: 40.0\n",
      "Exploring neighbors: (38.0, 42.0)\n",
      "o1_current: -0.5299999117851257\n",
      "0.47000008821487427 0.5299999117851257\n",
      "No improvement detected\n",
      "----------------------------------\n",
      "Current value: 40.0\n",
      "Exploring neighbors: (37.0, 43.0)\n",
      "o1_current: -0.5299999117851257\n",
      "0.47000008821487427 0.5299999117851257\n",
      "No improvement detected\n",
      "----------------------------------\n",
      "Current value: 40.0\n",
      "Exploring neighbors: (36.0, 44.0)\n",
      "o1_current: -0.5299999117851257\n",
      "0.47000008821487427 0.5299999117851257\n",
      "No improvement detected\n",
      "----------------------------------\n",
      "Current value: 40.0\n",
      "Exploring neighbors: (35.0, 45.0)\n",
      "o1_current: -0.5299999117851257\n",
      "0.47000008821487427 0.5299999117851257\n",
      "No improvement detected\n",
      "----------------------------------\n",
      "Current value: 40.0\n",
      "Exploring neighbors: (34.0, 46.0)\n",
      "o1_current: -0.5299999117851257\n",
      "0.47000008821487427 0.5299999117851257\n",
      "No improvement detected\n",
      "----------------------------------\n",
      "Current value: 40.0\n",
      "Exploring neighbors: (33.0, 47.0)\n",
      "o1_current: -0.5299999117851257\n",
      "0.47000008821487427 0.5299999117851257\n",
      "No improvement detected\n",
      "----------------------------------\n",
      "Current value: 40.0\n",
      "Exploring neighbors: (32.0, 48.0)\n",
      "o1_current: -0.5299999117851257\n",
      "0.47000008821487427 0.5299999117851257\n",
      "No improvement detected\n",
      "----------------------------------\n",
      "Current value: 40.0\n",
      "Exploring neighbors: (31.0, 49.0)\n",
      "o1_current: -0.5299999117851257\n",
      "0.46000009775161743 0.5399999022483826\n",
      "Improvement with modified value 31.0. o1: -0.5399999022483826\n",
      "----------------------------------\n",
      "Current value: 31.0\n",
      "Exploring neighbors: (22.0, 40.0)\n",
      "o1_current: -0.5399999022483826\n",
      "0.46000009775161743 0.5399999022483826\n",
      "No improvement detected\n",
      "----------------------------------\n",
      "Current value: 31.0\n",
      "Exploring neighbors: (21.0, 41.0)\n",
      "o1_current: -0.5399999022483826\n",
      "0.46000009775161743 0.5399999022483826\n",
      "No improvement detected\n",
      "----------------------------------\n",
      "Current value: 31.0\n",
      "Exploring neighbors: (20.0, 42.0)\n",
      "o1_current: -0.5399999022483826\n",
      "0.46000009775161743 0.5399999022483826\n",
      "No improvement detected\n",
      "----------------------------------\n",
      "Current value: 31.0\n",
      "Exploring neighbors: (19.0, 43.0)\n",
      "o1_current: -0.5399999022483826\n",
      "0.46000009775161743 0.5399999022483826\n",
      "No improvement detected\n",
      "----------------------------------\n",
      "Current value: 31.0\n",
      "Exploring neighbors: (18.0, 44.0)\n",
      "o1_current: -0.5399999022483826\n",
      "0.46000009775161743 0.5399999022483826\n",
      "No improvement detected\n",
      "----------------------------------\n",
      "Current value: 31.0\n",
      "Exploring neighbors: (17.0, 45.0)\n",
      "o1_current: -0.5399999022483826\n",
      "0.46000009775161743 0.5399999022483826\n",
      "No improvement detected\n",
      "----------------------------------\n",
      "Current value: 31.0\n",
      "Exploring neighbors: (16.0, 46.0)\n",
      "o1_current: -0.5399999022483826\n",
      "0.46000009775161743 0.5399999022483826\n",
      "No improvement detected\n",
      "----------------------------------\n",
      "Current value: 31.0\n",
      "Exploring neighbors: (15.0, 47.0)\n",
      "o1_current: -0.5399999022483826\n",
      "0.46000009775161743 0.5399999022483826\n",
      "No improvement detected\n",
      "----------------------------------\n",
      "Current value: 31.0\n",
      "Exploring neighbors: (14.0, 48.0)\n",
      "o1_current: -0.5399999022483826\n",
      "0.46000009775161743 0.5399999022483826\n",
      "No improvement detected\n",
      "----------------------------------\n",
      "Current value: 31.0\n",
      "Exploring neighbors: (13.0, 49.0)\n",
      "o1_current: -0.5399999022483826\n",
      "0.46000009775161743 0.5399999022483826\n",
      "No improvement detected\n"
     ]
    }
   ],
   "source": [
    "no_improvement_iterations = 0\n",
    "\n",
    "# stop hill climb if o1 has not improved for more than 10 iterations\n",
    "while no_improvement_iterations < 10:\n",
    "    delta_add = original_row.copy()\n",
    "    delta_minus = original_row.copy()\n",
    "    delta_add[feature_to_modify] += delta\n",
    "    delta_minus[feature_to_modify] -= delta\n",
    "    \n",
    "    print('----------------------------------')\n",
    "    print(f'Current value: {best_value}')\n",
    "    print(f'Exploring neighbors: {delta_minus[feature_to_modify], delta_add[feature_to_modify]}')\n",
    "\n",
    "    # get model predictions with modified feature value\n",
    "    conf_0_add, conf_1_add = predict_with_model(delta_add) \n",
    "    conf_0_minus, conf_1_minus = predict_with_model(delta_minus)\n",
    "    \n",
    "    # calculate o1 (difference of confidence between two classes) for new predictions\n",
    "    o1_add = fitness_func(original_conf_0, original_conf_1, conf_0_add, conf_1_add)\n",
    "    o1_minus = fitness_func(original_conf_0, original_conf_1, conf_0_minus, conf_1_minus)\n",
    "    \n",
    "    print(f'o1_current: {o1_current}')\n",
    "    \n",
    "    # if original value plus delta gives lowest o1\n",
    "    if o1_add < o1_current and o1_add < o1_minus:\n",
    "        old_conf_0, old_conf_1 = conf_0_add, conf_1_add\n",
    "        o1_current = o1_add\n",
    "        best_value = delta_add[feature_to_modify]\n",
    "        original_row = delta_add\n",
    "        best_conf_0, best_conf_1 = conf_0_add, conf_1_add\n",
    "        print(conf_0_add, conf_1_add)\n",
    "        print(f'Improvement with modified value {best_value}. o1: {o1_current}')\n",
    "        no_improvement_iterations = 0\n",
    "    # if original value minus delta gives lowest o1\n",
    "    elif o1_minus < o1_current and o1_minus < o1_add:\n",
    "        old_conf_0, old_conf_1 = conf_0_minus, conf_1_minus\n",
    "        o1_current = o1_minus\n",
    "        best_value = delta_minus[feature_to_modify]\n",
    "        original_row = delta_minus\n",
    "        best_conf_0, best_conf_1 = conf_0_minus, conf_1_minus\n",
    "        print(conf_0_minus, conf_1_minus)\n",
    "        print(f'Improvement with modified value {best_value}. o1: {o1_current}')\n",
    "        no_improvement_iterations = 0\n",
    "    # if value from last iteration gives lowest o1\n",
    "    else:\n",
    "        print(best_conf_0, best_conf_1)\n",
    "        print('No improvement detected')\n",
    "        delta += 1  # increase hill-climb rate when stuck\n",
    "        no_improvement_iterations += 1"
   ],
   "metadata": {
    "collapsed": false,
    "ExecuteTime": {
     "end_time": "2025-01-18T19:32:02.911807500Z",
     "start_time": "2025-01-18T19:32:02.889955300Z"
    }
   },
   "id": "c926b32c1503dd0b"
  },
  {
   "cell_type": "code",
   "execution_count": 50,
   "outputs": [
    {
     "name": "stdout",
     "output_type": "stream",
     "text": [
      "Original confidence: Class 0 = 0.5600000619888306, Class 1 = 0.4399999678134918\n",
      "Initial o1: 0.12000009417533875\n",
      "Feature 'persoon_leeftijd_bij_onderzoek' changed from 49.0 to 31.0\n",
      "Final confidence: Class 0 = 0.46000009775161743, Class 1 = 0.5399999022483826\n",
      "Optimized o1: -0.5399999022483826\n"
     ]
    }
   ],
   "source": [
    "# Output results\n",
    "print(f\"Original confidence: Class 0 = {original_conf_0}, Class 1 = {original_conf_1}\")\n",
    "print(f\"Initial o1: {o1_original}\")\n",
    "print(f\"Feature '{feature_to_modify}' changed from {original_value} to {best_value}\")\n",
    "print(f\"Final confidence: Class 0 = {best_conf_0}, Class 1 = {best_conf_1}\")\n",
    "print(f\"Optimized o1: {o1_current}\")"
   ],
   "metadata": {
    "collapsed": false,
    "ExecuteTime": {
     "end_time": "2025-01-18T19:32:02.912307600Z",
     "start_time": "2025-01-18T19:32:02.902182500Z"
    }
   },
   "id": "b67363d522a0484"
  }
 ],
 "metadata": {
  "kernelspec": {
   "display_name": "Python 3",
   "language": "python",
   "name": "python3"
  },
  "language_info": {
   "codemirror_mode": {
    "name": "ipython",
    "version": 2
   },
   "file_extension": ".py",
   "mimetype": "text/x-python",
   "name": "python",
   "nbconvert_exporter": "python",
   "pygments_lexer": "ipython2",
   "version": "2.7.6"
  }
 },
 "nbformat": 4,
 "nbformat_minor": 5
}
