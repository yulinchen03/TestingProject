{
 "cells": [
  {
   "cell_type": "markdown",
   "source": [
    "# Testing for bias in model towards certain features"
   ],
   "metadata": {
    "collapsed": false
   },
   "id": "8079aef1fb0d62d"
  },
  {
   "cell_type": "code",
   "execution_count": 1,
   "outputs": [],
   "source": [
    "import onnx\n",
    "from sklearn.ensemble import GradientBoostingClassifier\n",
    "from sklearn.feature_selection import VarianceThreshold\n",
    "from sklearn.pipeline import Pipeline\n",
    "from onnxconverter_common import FloatTensorType\n",
    "from skl2onnx import convert_sklearn\n",
    "from src.tests.test_utils import *"
   ],
   "metadata": {
    "collapsed": false,
    "ExecuteTime": {
     "end_time": "2024-12-10T18:04:18.600482900Z",
     "start_time": "2024-12-10T18:04:17.071852200Z"
    }
   },
   "id": "67124673b058469c"
  },
  {
   "cell_type": "markdown",
   "source": [
    "### Load and train model"
   ],
   "metadata": {
    "collapsed": false
   },
   "id": "19847b849d72f179"
  },
  {
   "cell_type": "code",
   "execution_count": 2,
   "outputs": [],
   "source": [
    "# specify existing model path\n",
    "model_path = \"../../../model/gboost.onnx\""
   ],
   "metadata": {
    "collapsed": false,
    "ExecuteTime": {
     "end_time": "2024-12-10T18:04:18.600482900Z",
     "start_time": "2024-12-10T18:04:18.592396700Z"
    }
   },
   "id": "1f0b9cb0ad3f20a8"
  },
  {
   "cell_type": "code",
   "execution_count": 3,
   "outputs": [],
   "source": [
    "df = add_checked(pd.read_csv(\"../../../data/synth_data_train_labeled.csv\"))\n",
    "X = df.drop(['checked', 'Ja', 'Nee'], axis=1)\n",
    "X = X.astype(np.float32)\n",
    "y = df['checked']"
   ],
   "metadata": {
    "collapsed": false,
    "ExecuteTime": {
     "end_time": "2024-12-10T18:04:20.024745300Z",
     "start_time": "2024-12-10T18:04:18.595955200Z"
    }
   },
   "id": "da74b477c8203f9a"
  },
  {
   "cell_type": "code",
   "execution_count": 4,
   "outputs": [],
   "source": [
    "# # Uncomment to retrain model/make changes \n",
    "# \n",
    "# selector = VarianceThreshold()\n",
    "# classifier = GradientBoostingClassifier(n_estimators=100, learning_rate=1.0, max_depth=1, random_state=0)\n",
    "# \n",
    "# pipeline = Pipeline(steps=[('feature selection', selector), ('classification', classifier)])\n",
    "# \n",
    "# # Let's train a simple model\n",
    "# pipeline.fit(X, y)\n",
    "# \n",
    "# # Let's convert the model to ONNX\n",
    "# onnx_model = convert_sklearn(\n",
    "#     pipeline, initial_types=[('X', FloatTensorType((None, X.shape[1])))],\n",
    "#     target_opset=12)\n",
    "# \n",
    "# sess = rt.InferenceSession(onnx_model.SerializeToString())\n",
    "# \n",
    "# # Let's save the model\n",
    "# onnx.save(onnx_model, model_path)"
   ],
   "metadata": {
    "collapsed": false,
    "ExecuteTime": {
     "end_time": "2024-12-10T18:04:20.030275900Z",
     "start_time": "2024-12-10T18:04:20.025742100Z"
    }
   },
   "id": "b67120d1b6eba04b"
  },
  {
   "cell_type": "markdown",
   "source": [
    "### Experiment_persoon_geslacht_vrouw (Whether the subject is male (0) or female (1))"
   ],
   "metadata": {
    "collapsed": false
   },
   "id": "f825db48c7ee28f6"
  },
  {
   "cell_type": "code",
   "execution_count": 5,
   "outputs": [
    {
     "name": "stdout",
     "output_type": "stream",
     "text": [
      "Accuracy for sample of 1000 Men: 75.5%\n",
      "Accuracy for sample of 1000 Women: 71.2%\n",
      "Percentage checked amongst 1000 men: 34.4%\n",
      "Percentage checked when gender is changed to female: 38.9%\n",
      "p-value: 0.03678825564616459\n",
      "---------------------------------------------------------------------------------\n",
      "Conclusion: Model showcases bias towards feature - persoon_geslacht_vrouw (gender)\n",
      "---------------------------------------------------------------------------------\n"
     ]
    }
   ],
   "source": [
    "data_path = '../../../data/Experiment_persoon_geslacht_vrouw/male_only.csv'\n",
    "acc_male, acc_female, p_value, dataset_size, male_checked_cnt, female_checked_cnt = test_bias(data_path, model_path)\n",
    "\n",
    "print(f'Accuracy for sample of {dataset_size} Men: {acc_male*100:.1f}%')\n",
    "print(f'Accuracy for sample of {dataset_size} Women: {acc_female*100:.1f}%')\n",
    "print(f'Percentage checked amongst 1000 men: {male_checked_cnt*100/dataset_size:.1f}%')\n",
    "print(f'Percentage checked when gender is changed to female: {female_checked_cnt*100/dataset_size:.1f}%')\n",
    "\n",
    "print(f\"p-value: {p_value}\")\n",
    "print('---------------------------------------------------------------------------------')\n",
    "if p_value < 0.05:\n",
    "    print(f'Conclusion: Model showcases bias towards feature - persoon_geslacht_vrouw (gender)')\n",
    "else:\n",
    "    print(f'Conclusion: Model does not showcase bias towards feature - persoon_geslacht_vrouw (gender)')\n",
    "print('---------------------------------------------------------------------------------')"
   ],
   "metadata": {
    "collapsed": false,
    "ExecuteTime": {
     "end_time": "2024-12-10T18:04:20.085067300Z",
     "start_time": "2024-12-10T18:04:20.030275900Z"
    }
   },
   "id": "434be3ee7a343405"
  }
 ],
 "metadata": {
  "kernelspec": {
   "display_name": "Python 3",
   "language": "python",
   "name": "python3"
  },
  "language_info": {
   "codemirror_mode": {
    "name": "ipython",
    "version": 2
   },
   "file_extension": ".py",
   "mimetype": "text/x-python",
   "name": "python",
   "nbconvert_exporter": "python",
   "pygments_lexer": "ipython2",
   "version": "2.7.6"
  }
 },
 "nbformat": 4,
 "nbformat_minor": 5
}
