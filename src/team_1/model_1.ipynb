{
 "cells": [
  {
   "cell_type": "markdown",
   "metadata": {},
   "source": [
    "# Feature Importance Determination"
   ]
  },
  {
   "cell_type": "code",
   "metadata": {
    "ExecuteTime": {
     "end_time": "2024-12-11T01:25:49.729098Z",
     "start_time": "2024-12-11T01:25:49.680708Z"
    }
   },
   "source": [
    "from src.utils.feature_analyzer import *\n",
    "from src.utils.preprocessing import *\n",
    "from src.utils.other_utils import *\n",
    "from src.utils.test_utils import *"
   ],
   "outputs": [],
   "execution_count": 4
  },
  {
   "cell_type": "markdown",
   "metadata": {},
   "source": [
    "## Determine Important Features"
   ]
  },
  {
   "cell_type": "code",
   "metadata": {
    "ExecuteTime": {
     "end_time": "2024-12-11T01:26:03.666724Z",
     "start_time": "2024-12-11T01:26:02.901038Z"
    }
   },
   "source": [
    "RANDOM_STATE = 42\n",
    "\n",
    "# Load the dataset\n",
    "df = add_checked(pd.read_csv(\"../../data/synth_data_train_labeled.csv\"))\n",
    "df.head()"
   ],
   "outputs": [
    {
     "data": {
      "text/plain": [
       "   adres_aantal_brp_adres  adres_aantal_verschillende_wijken  \\\n",
       "0                       4                                  4   \n",
       "1                       1                                  1   \n",
       "2                       5                                  2   \n",
       "3                       2                                  1   \n",
       "4                       3                                  1   \n",
       "\n",
       "   adres_aantal_verzendadres  adres_aantal_woonadres_handmatig  \\\n",
       "0                          1                                 1   \n",
       "1                          1                                 0   \n",
       "2                          0                                 0   \n",
       "3                          0                                 0   \n",
       "4                          0                                 0   \n",
       "\n",
       "   adres_dagen_op_adres  adres_recentst_onderdeel_rdam  \\\n",
       "0                  6345                              1   \n",
       "1                 17546                              1   \n",
       "2                  4052                              1   \n",
       "3                 16335                              1   \n",
       "4                 20872                              1   \n",
       "\n",
       "   adres_recentste_buurt_groot_ijsselmonde  \\\n",
       "0                                        0   \n",
       "1                                        0   \n",
       "2                                        0   \n",
       "3                                        0   \n",
       "4                                        0   \n",
       "\n",
       "   adres_recentste_buurt_nieuwe_westen  adres_recentste_buurt_other  \\\n",
       "0                                    0                            1   \n",
       "1                                    0                            0   \n",
       "2                                    0                            0   \n",
       "3                                    0                            0   \n",
       "4                                    0                            0   \n",
       "\n",
       "   adres_recentste_buurt_oude_noorden  ...  typering_hist_ind  \\\n",
       "0                                   0  ...                  1   \n",
       "1                                   0  ...                  1   \n",
       "2                                   0  ...                  1   \n",
       "3                                   0  ...                  1   \n",
       "4                                   0  ...                  1   \n",
       "\n",
       "   typering_hist_sector_zorg  typering_ind  \\\n",
       "0                          0             1   \n",
       "1                          1             1   \n",
       "2                          0             0   \n",
       "3                          0             1   \n",
       "4                          0             1   \n",
       "\n",
       "   typering_indicatie_geheime_gegevens  typering_other  \\\n",
       "0                                    0               0   \n",
       "1                                    0               0   \n",
       "2                                    0               0   \n",
       "3                                    0               1   \n",
       "4                                    0               1   \n",
       "\n",
       "   typering_transport__logistiek___tuinbouw  \\\n",
       "0                                         0   \n",
       "1                                         0   \n",
       "2                                         0   \n",
       "3                                         0   \n",
       "4                                         0   \n",
       "\n",
       "   typering_zorg__schoonmaak___welzijn        Ja       Nee  checked  \n",
       "0                                    0  0.550907  0.449093        0  \n",
       "1                                    0  0.411258  0.588742        0  \n",
       "2                                    0  0.690235  0.309765        0  \n",
       "3                                    0  0.710641  0.289359        1  \n",
       "4                                    0  0.394054  0.605946        0  \n",
       "\n",
       "[5 rows x 318 columns]"
      ],
      "text/html": [
       "<div>\n",
       "<style scoped>\n",
       "    .dataframe tbody tr th:only-of-type {\n",
       "        vertical-align: middle;\n",
       "    }\n",
       "\n",
       "    .dataframe tbody tr th {\n",
       "        vertical-align: top;\n",
       "    }\n",
       "\n",
       "    .dataframe thead th {\n",
       "        text-align: right;\n",
       "    }\n",
       "</style>\n",
       "<table border=\"1\" class=\"dataframe\">\n",
       "  <thead>\n",
       "    <tr style=\"text-align: right;\">\n",
       "      <th></th>\n",
       "      <th>adres_aantal_brp_adres</th>\n",
       "      <th>adres_aantal_verschillende_wijken</th>\n",
       "      <th>adres_aantal_verzendadres</th>\n",
       "      <th>adres_aantal_woonadres_handmatig</th>\n",
       "      <th>adres_dagen_op_adres</th>\n",
       "      <th>adres_recentst_onderdeel_rdam</th>\n",
       "      <th>adres_recentste_buurt_groot_ijsselmonde</th>\n",
       "      <th>adres_recentste_buurt_nieuwe_westen</th>\n",
       "      <th>adres_recentste_buurt_other</th>\n",
       "      <th>adres_recentste_buurt_oude_noorden</th>\n",
       "      <th>...</th>\n",
       "      <th>typering_hist_ind</th>\n",
       "      <th>typering_hist_sector_zorg</th>\n",
       "      <th>typering_ind</th>\n",
       "      <th>typering_indicatie_geheime_gegevens</th>\n",
       "      <th>typering_other</th>\n",
       "      <th>typering_transport__logistiek___tuinbouw</th>\n",
       "      <th>typering_zorg__schoonmaak___welzijn</th>\n",
       "      <th>Ja</th>\n",
       "      <th>Nee</th>\n",
       "      <th>checked</th>\n",
       "    </tr>\n",
       "  </thead>\n",
       "  <tbody>\n",
       "    <tr>\n",
       "      <th>0</th>\n",
       "      <td>4</td>\n",
       "      <td>4</td>\n",
       "      <td>1</td>\n",
       "      <td>1</td>\n",
       "      <td>6345</td>\n",
       "      <td>1</td>\n",
       "      <td>0</td>\n",
       "      <td>0</td>\n",
       "      <td>1</td>\n",
       "      <td>0</td>\n",
       "      <td>...</td>\n",
       "      <td>1</td>\n",
       "      <td>0</td>\n",
       "      <td>1</td>\n",
       "      <td>0</td>\n",
       "      <td>0</td>\n",
       "      <td>0</td>\n",
       "      <td>0</td>\n",
       "      <td>0.550907</td>\n",
       "      <td>0.449093</td>\n",
       "      <td>0</td>\n",
       "    </tr>\n",
       "    <tr>\n",
       "      <th>1</th>\n",
       "      <td>1</td>\n",
       "      <td>1</td>\n",
       "      <td>1</td>\n",
       "      <td>0</td>\n",
       "      <td>17546</td>\n",
       "      <td>1</td>\n",
       "      <td>0</td>\n",
       "      <td>0</td>\n",
       "      <td>0</td>\n",
       "      <td>0</td>\n",
       "      <td>...</td>\n",
       "      <td>1</td>\n",
       "      <td>1</td>\n",
       "      <td>1</td>\n",
       "      <td>0</td>\n",
       "      <td>0</td>\n",
       "      <td>0</td>\n",
       "      <td>0</td>\n",
       "      <td>0.411258</td>\n",
       "      <td>0.588742</td>\n",
       "      <td>0</td>\n",
       "    </tr>\n",
       "    <tr>\n",
       "      <th>2</th>\n",
       "      <td>5</td>\n",
       "      <td>2</td>\n",
       "      <td>0</td>\n",
       "      <td>0</td>\n",
       "      <td>4052</td>\n",
       "      <td>1</td>\n",
       "      <td>0</td>\n",
       "      <td>0</td>\n",
       "      <td>0</td>\n",
       "      <td>0</td>\n",
       "      <td>...</td>\n",
       "      <td>1</td>\n",
       "      <td>0</td>\n",
       "      <td>0</td>\n",
       "      <td>0</td>\n",
       "      <td>0</td>\n",
       "      <td>0</td>\n",
       "      <td>0</td>\n",
       "      <td>0.690235</td>\n",
       "      <td>0.309765</td>\n",
       "      <td>0</td>\n",
       "    </tr>\n",
       "    <tr>\n",
       "      <th>3</th>\n",
       "      <td>2</td>\n",
       "      <td>1</td>\n",
       "      <td>0</td>\n",
       "      <td>0</td>\n",
       "      <td>16335</td>\n",
       "      <td>1</td>\n",
       "      <td>0</td>\n",
       "      <td>0</td>\n",
       "      <td>0</td>\n",
       "      <td>0</td>\n",
       "      <td>...</td>\n",
       "      <td>1</td>\n",
       "      <td>0</td>\n",
       "      <td>1</td>\n",
       "      <td>0</td>\n",
       "      <td>1</td>\n",
       "      <td>0</td>\n",
       "      <td>0</td>\n",
       "      <td>0.710641</td>\n",
       "      <td>0.289359</td>\n",
       "      <td>1</td>\n",
       "    </tr>\n",
       "    <tr>\n",
       "      <th>4</th>\n",
       "      <td>3</td>\n",
       "      <td>1</td>\n",
       "      <td>0</td>\n",
       "      <td>0</td>\n",
       "      <td>20872</td>\n",
       "      <td>1</td>\n",
       "      <td>0</td>\n",
       "      <td>0</td>\n",
       "      <td>0</td>\n",
       "      <td>0</td>\n",
       "      <td>...</td>\n",
       "      <td>1</td>\n",
       "      <td>0</td>\n",
       "      <td>1</td>\n",
       "      <td>0</td>\n",
       "      <td>1</td>\n",
       "      <td>0</td>\n",
       "      <td>0</td>\n",
       "      <td>0.394054</td>\n",
       "      <td>0.605946</td>\n",
       "      <td>0</td>\n",
       "    </tr>\n",
       "  </tbody>\n",
       "</table>\n",
       "<p>5 rows × 318 columns</p>\n",
       "</div>"
      ]
     },
     "execution_count": 5,
     "metadata": {},
     "output_type": "execute_result"
    }
   ],
   "execution_count": 5
  },
  {
   "cell_type": "code",
   "metadata": {
    "ExecuteTime": {
     "end_time": "2024-12-11T01:26:09.236793Z",
     "start_time": "2024-12-11T01:26:09.224826Z"
    }
   },
   "source": [
    "# Checking for Null values\n",
    "df.isnull().sum()/len(df)*100"
   ],
   "outputs": [
    {
     "data": {
      "text/plain": [
       "adres_aantal_brp_adres                      0.0\n",
       "adres_aantal_verschillende_wijken           0.0\n",
       "adres_aantal_verzendadres                   0.0\n",
       "adres_aantal_woonadres_handmatig            0.0\n",
       "adres_dagen_op_adres                        0.0\n",
       "                                           ... \n",
       "typering_transport__logistiek___tuinbouw    0.0\n",
       "typering_zorg__schoonmaak___welzijn         0.0\n",
       "Ja                                          0.0\n",
       "Nee                                         0.0\n",
       "checked                                     0.0\n",
       "Length: 318, dtype: float64"
      ]
     },
     "execution_count": 6,
     "metadata": {},
     "output_type": "execute_result"
    }
   ],
   "execution_count": 6
  },
  {
   "cell_type": "code",
   "metadata": {
    "ExecuteTime": {
     "end_time": "2024-12-11T01:26:13.628169Z",
     "start_time": "2024-12-11T01:26:13.625997Z"
    }
   },
   "source": [
    "fa = FeatureAnalyzer()"
   ],
   "outputs": [],
   "execution_count": 7
  },
  {
   "cell_type": "code",
   "execution_count": null,
   "metadata": {
    "ExecuteTime": {
     "end_time": "2024-12-10T23:24:56.365318600Z",
     "start_time": "2024-12-10T23:24:56.076371400Z"
    },
    "collapsed": false
   },
   "outputs": [],
   "source": [
    "df_modified = df.copy()\n",
    "df_modified['persoon_leeftijd_bij_onderzoek'] = 0"
   ]
  },
  {
   "cell_type": "code",
   "execution_count": null,
   "metadata": {
    "ExecuteTime": {
     "end_time": "2024-12-10T23:24:57.322537400Z",
     "start_time": "2024-12-10T23:24:57.313716700Z"
    }
   },
   "outputs": [],
   "source": [
    "# fa.evaluate_importance(dataframe=df_modified, target='checked', add_drop=['Ja', 'Nee'], filename=\"fi_v1.pkl\") # Uncomment this line if you don't have the feature_importance.pkl file\n",
    "fa.load_importance(filepath='fi_v1.pkl')"
   ]
  },
  {
   "cell_type": "code",
   "execution_count": null,
   "metadata": {
    "ExecuteTime": {
     "end_time": "2024-12-10T23:24:58.712643100Z",
     "start_time": "2024-12-10T23:24:58.270461100Z"
    }
   },
   "outputs": [],
   "source": [
    "X = df.drop(['checked', 'Ja', 'Nee'], axis=1)\n",
    "y = df['checked']\n",
    "fa.plot_importance(column_names=X.columns, min_val=0.1)"
   ]
  },
  {
   "cell_type": "code",
   "execution_count": null,
   "metadata": {
    "ExecuteTime": {
     "end_time": "2024-12-10T22:49:18.006017100Z",
     "start_time": "2024-12-10T22:49:17.995076300Z"
    }
   },
   "outputs": [],
   "source": [
    "fad = fa.feature_importance_as_dict(column_names=X.columns, normalize=True)\n",
    "print(fad)"
   ]
  },
  {
   "cell_type": "code",
   "execution_count": null,
   "metadata": {
    "ExecuteTime": {
     "end_time": "2024-12-10T22:49:21.131095400Z",
     "start_time": "2024-12-10T22:49:21.111342800Z"
    }
   },
   "outputs": [],
   "source": [
    "description = pd.read_csv(\"../../data/data_description.csv\", encoding='latin1')\n",
    "description.head()"
   ]
  },
  {
   "cell_type": "code",
   "execution_count": null,
   "metadata": {
    "ExecuteTime": {
     "end_time": "2024-12-10T22:49:24.449946500Z",
     "start_time": "2024-12-10T22:49:24.202135600Z"
    }
   },
   "outputs": [],
   "source": [
    "scaler = MinMaxScaler()\n",
    "description['Relative importance'] = scaler.fit_transform(description[['Relative importance']])\n",
    "filtered_description = description[description['Relative importance'] > 0.1]\n",
    "\n",
    "plt.figure(figsize=(10, 8))\n",
    "ax = filtered_description['Relative importance'].plot(kind='bar')\n",
    "ax.set_xticklabels(filtered_description['Feature (nl)'], rotation=90)\n",
    "plt.title('Relative Importance of Features')\n",
    "plt.xlabel('Features')\n",
    "plt.ylabel('Relative Importance')\n",
    "plt.tight_layout()\n",
    "plt.show()"
   ]
  },
  {
   "cell_type": "code",
   "execution_count": null,
   "metadata": {
    "ExecuteTime": {
     "end_time": "2024-12-10T22:50:33.709650600Z",
     "start_time": "2024-12-10T22:50:33.678828300Z"
    },
    "collapsed": false
   },
   "outputs": [],
   "source": [
    "TOP = 10\n",
    "sorted_fad = {k: v for k, v in sorted(fad.items(), key=lambda item: item[1], reverse=True)}\n",
    "\n",
    "sorted_feature_names = list(sorted_fad.keys())[:TOP]\n",
    "sorted_importances_mean = list(sorted_fad.values())[:TOP]\n",
    "\n",
    "filtered_description = filtered_description.sort_values(by='Relative importance', ascending=False)\n",
    "filtered_description_sorted = filtered_description['Feature (nl)'][:TOP]\n",
    "\n",
    "most_important_features_new = set(sorted_feature_names)\n",
    "most_important_features_original = set(filtered_description_sorted)\n",
    "# print(\"Most important features according to RF:\")\n",
    "# print(most_important_features_new)\n",
    "# print(\"Most important features according to original data:\")\n",
    "# print(most_important_features_original)\n",
    "\n",
    "intersection = most_important_features_new.intersection(most_important_features_original)\n",
    "percentage_intersection = len(intersection) / len(most_important_features_original) * 100\n",
    "print(f\"Similarity between original importance and RF: {percentage_intersection:.2f}%\")"
   ]
  },
  {
   "cell_type": "code",
   "execution_count": null,
   "metadata": {
    "ExecuteTime": {
     "end_time": "2024-12-10T22:49:35.181882500Z",
     "start_time": "2024-12-10T22:49:35.172352700Z"
    }
   },
   "outputs": [],
   "source": [
    "def get_important_features(top, fad, filtered_description):\n",
    "    TOP = top\n",
    "    sorted_fad = {k: v for k, v in sorted(fad.items(), key=lambda item: item[1], reverse=True)}\n",
    "\n",
    "    sorted_feature_names = list(sorted_fad.keys())[:TOP]\n",
    "    sorted_importances_mean = list(sorted_fad.values())[:TOP]\n",
    "    \n",
    "    filtered_description = filtered_description.sort_values(by='Relative importance', ascending=False)\n",
    "    filtered_description_sorted = filtered_description['Feature (nl)'][:TOP]\n",
    "    \n",
    "    most_important_features_new = set(sorted_feature_names)\n",
    "    most_important_features_original = set(filtered_description_sorted)\n",
    "    # print(\"Most important features according to RF:\")\n",
    "    # print(most_important_features_new)\n",
    "    # print(\"Most important features according to original data:\")\n",
    "    # print(most_important_features_original)\n",
    "    \n",
    "    intersection = most_important_features_new.intersection(most_important_features_original)\n",
    "    percentage_intersection = len(intersection) / len(most_important_features_original) * 100\n",
    "    # print(f\"Similarity between original importance and RF: {percentage_intersection:.2f}%\")\n",
    "    return most_important_features_new"
   ]
  },
  {
   "cell_type": "code",
   "execution_count": null,
   "metadata": {
    "ExecuteTime": {
     "end_time": "2024-12-09T18:44:22.100391400Z",
     "start_time": "2024-12-09T18:44:22.004270800Z"
    },
    "collapsed": false
   },
   "outputs": [],
   "source": [
    "from sklearn.model_selection import train_test_split\n",
    "from sklearn.feature_selection import VarianceThreshold\n",
    "from sklearn.ensemble import GradientBoostingClassifier\n",
    "from sklearn.metrics import accuracy_score\n",
    "from sklearn.pipeline import Pipeline"
   ]
  },
  {
   "cell_type": "code",
   "execution_count": null,
   "metadata": {
    "ExecuteTime": {
     "end_time": "2024-12-09T18:46:00.912793200Z",
     "start_time": "2024-12-09T18:44:22.020772600Z"
    },
    "collapsed": false
   },
   "outputs": [],
   "source": [
    "feature_sizes = [10, 20, 40, 80, 160]\n",
    "accuracies = []\n",
    "\n",
    "def train(X, y):\n",
    "    X_train, X_test, y_train, y_test = train_test_split(X, y, test_size=0.25, random_state=42)\n",
    "    selector = VarianceThreshold()    \n",
    "    classifier = GradientBoostingClassifier(n_estimators=100, learning_rate=1.0, max_depth=1, random_state=0)\n",
    "    pipeline = Pipeline(steps=[('feature selection', selector), ('classification', classifier)])\n",
    "\n",
    "    # Let's train a simple model\n",
    "    pipeline.fit(X_train, y_train)\n",
    "    \n",
    "    # Let's evaluate the model\n",
    "    y_pred = pipeline.predict(X_test)\n",
    "    accuracy = accuracy_score(y_test, y_pred)\n",
    "    \n",
    "    return accuracy\n",
    "\n",
    "original_accuracy = train(X, y)\n",
    "print(f'Original Accuracy: {original_accuracy}')\n",
    "\n",
    "for size in feature_sizes:\n",
    "    features = get_important_features(size, fad, filtered_description)\n",
    "    \n",
    "    preprocessor = DataProcessor(X, y, features)\n",
    "    X_processed, y_processed = preprocessor.preprocess(remove_features=True)\n",
    "    \n",
    "    print(f'Processed data dimensions: {X_processed.shape}')\n",
    "    \n",
    "    processed_accuracy = train(X_processed, y_processed)\n",
    "    accuracies.append(processed_accuracy)\n",
    "    \n",
    "best_number_of_features = feature_sizes[accuracies.index(max(accuracies))]\n",
    "print(f'Best performing number of features: {best_number_of_features}')\n",
    "print(f'Accuracy: {max(accuracies)}')"
   ]
  },
  {
   "cell_type": "markdown",
   "metadata": {
    "collapsed": false
   },
   "source": [
    "# Nested Cross Validation"
   ]
  },
  {
   "cell_type": "code",
   "execution_count": null,
   "metadata": {
    "ExecuteTime": {
     "end_time": "2024-12-09T18:46:08.422953300Z",
     "start_time": "2024-12-09T18:45:59.461869300Z"
    },
    "collapsed": false
   },
   "outputs": [],
   "source": [
    "features = get_important_features(best_number_of_features, fad, filtered_description)\n",
    "preprocessor = DataProcessor(X, y, features)\n",
    "X_processed, y_processed = preprocessor.preprocess(remove_features=True)"
   ]
  },
  {
   "cell_type": "code",
   "execution_count": null,
   "metadata": {
    "ExecuteTime": {
     "end_time": "2024-12-09T18:46:08.431091700Z",
     "start_time": "2024-12-09T18:46:08.425953600Z"
    },
    "collapsed": false
   },
   "outputs": [],
   "source": [
    "selector = VarianceThreshold()\n",
    "classifier = GradientBoostingClassifier(random_state=0)"
   ]
  },
  {
   "cell_type": "code",
   "execution_count": null,
   "metadata": {
    "ExecuteTime": {
     "end_time": "2024-12-09T18:46:08.453387100Z",
     "start_time": "2024-12-09T18:46:08.431091700Z"
    },
    "collapsed": false
   },
   "outputs": [],
   "source": [
    "# Define hyperparameter grid\n",
    "parameters=[{'max_depth':[1,3,5],'learning_rate': [0.01,0.1,1.0],'n_estimators':[100,250,500]}]"
   ]
  },
  {
   "cell_type": "code",
   "execution_count": null,
   "metadata": {
    "ExecuteTime": {
     "end_time": "2024-12-09T21:31:48.537183600Z",
     "start_time": "2024-12-09T18:46:08.446882600Z"
    },
    "collapsed": false
   },
   "outputs": [],
   "source": [
    "mean, std = nested_cv(X, y, classifier, parameters)\n",
    "print('Accuracy of original model: %.3f (%.3f)' % (mean, std))"
   ]
  },
  {
   "cell_type": "code",
   "execution_count": null,
   "metadata": {
    "ExecuteTime": {
     "end_time": "2024-12-09T21:31:48.546697Z",
     "start_time": "2024-12-09T21:31:48.546194500Z"
    },
    "collapsed": false
   },
   "outputs": [],
   "source": [
    "mean_processed, std_processed = nested_cv(X_processed, y_processed, classifier, parameters)\n",
    "print('Accuracy of processed model: %.3f (%.3f)' % (mean_processed, std_processed))"
   ]
  },
  {
   "cell_type": "markdown",
   "metadata": {},
   "source": [
    "## The Best Model Evaluation"
   ]
  },
  {
   "cell_type": "code",
   "execution_count": null,
   "metadata": {
    "ExecuteTime": {
     "end_time": "2024-12-10T15:38:46.704034900Z",
     "start_time": "2024-12-10T15:38:46.144435600Z"
    },
    "collapsed": false
   },
   "outputs": [],
   "source": [
    "import pandas as pd"
   ]
  },
  {
   "cell_type": "code",
   "metadata": {
    "collapsed": false,
    "ExecuteTime": {
     "end_time": "2024-12-11T01:26:23.261684Z",
     "start_time": "2024-12-11T01:26:23.063614Z"
    }
   },
   "source": [
    "df = pd.read_csv('../../data/Experiment_persoon_geslacht_vrouw/0.csv')\n",
    "df.head(10)"
   ],
   "outputs": [
    {
     "ename": "FileNotFoundError",
     "evalue": "[Errno 2] No such file or directory: '../../data/Experiment_persoon_geslacht_vrouw/0.csv'",
     "output_type": "error",
     "traceback": [
      "\u001B[0;31m---------------------------------------------------------------------------\u001B[0m",
      "\u001B[0;31mFileNotFoundError\u001B[0m                         Traceback (most recent call last)",
      "Cell \u001B[0;32mIn[8], line 1\u001B[0m\n\u001B[0;32m----> 1\u001B[0m df \u001B[38;5;241m=\u001B[39m \u001B[43mpd\u001B[49m\u001B[38;5;241;43m.\u001B[39;49m\u001B[43mread_csv\u001B[49m\u001B[43m(\u001B[49m\u001B[38;5;124;43m'\u001B[39;49m\u001B[38;5;124;43m../../data/Experiment_persoon_geslacht_vrouw/0.csv\u001B[39;49m\u001B[38;5;124;43m'\u001B[39;49m\u001B[43m)\u001B[49m\n\u001B[1;32m      2\u001B[0m df\u001B[38;5;241m.\u001B[39mhead(\u001B[38;5;241m10\u001B[39m)\n",
      "File \u001B[0;32m~/Developer/TestingProject/.venv/lib/python3.9/site-packages/pandas/io/parsers/readers.py:1024\u001B[0m, in \u001B[0;36mread_csv\u001B[0;34m(filepath_or_buffer, sep, delimiter, header, names, index_col, usecols, dtype, engine, converters, true_values, false_values, skipinitialspace, skiprows, skipfooter, nrows, na_values, keep_default_na, na_filter, verbose, skip_blank_lines, parse_dates, infer_datetime_format, keep_date_col, date_parser, date_format, dayfirst, cache_dates, iterator, chunksize, compression, thousands, decimal, lineterminator, quotechar, quoting, doublequote, escapechar, comment, encoding, encoding_errors, dialect, on_bad_lines, delim_whitespace, low_memory, memory_map, float_precision, storage_options, dtype_backend)\u001B[0m\n\u001B[1;32m   1011\u001B[0m kwds_defaults \u001B[38;5;241m=\u001B[39m _refine_defaults_read(\n\u001B[1;32m   1012\u001B[0m     dialect,\n\u001B[1;32m   1013\u001B[0m     delimiter,\n\u001B[0;32m   (...)\u001B[0m\n\u001B[1;32m   1020\u001B[0m     dtype_backend\u001B[38;5;241m=\u001B[39mdtype_backend,\n\u001B[1;32m   1021\u001B[0m )\n\u001B[1;32m   1022\u001B[0m kwds\u001B[38;5;241m.\u001B[39mupdate(kwds_defaults)\n\u001B[0;32m-> 1024\u001B[0m \u001B[38;5;28;01mreturn\u001B[39;00m \u001B[43m_read\u001B[49m\u001B[43m(\u001B[49m\u001B[43mfilepath_or_buffer\u001B[49m\u001B[43m,\u001B[49m\u001B[43m \u001B[49m\u001B[43mkwds\u001B[49m\u001B[43m)\u001B[49m\n",
      "File \u001B[0;32m~/Developer/TestingProject/.venv/lib/python3.9/site-packages/pandas/io/parsers/readers.py:618\u001B[0m, in \u001B[0;36m_read\u001B[0;34m(filepath_or_buffer, kwds)\u001B[0m\n\u001B[1;32m    615\u001B[0m _validate_names(kwds\u001B[38;5;241m.\u001B[39mget(\u001B[38;5;124m\"\u001B[39m\u001B[38;5;124mnames\u001B[39m\u001B[38;5;124m\"\u001B[39m, \u001B[38;5;28;01mNone\u001B[39;00m))\n\u001B[1;32m    617\u001B[0m \u001B[38;5;66;03m# Create the parser.\u001B[39;00m\n\u001B[0;32m--> 618\u001B[0m parser \u001B[38;5;241m=\u001B[39m \u001B[43mTextFileReader\u001B[49m\u001B[43m(\u001B[49m\u001B[43mfilepath_or_buffer\u001B[49m\u001B[43m,\u001B[49m\u001B[43m \u001B[49m\u001B[38;5;241;43m*\u001B[39;49m\u001B[38;5;241;43m*\u001B[39;49m\u001B[43mkwds\u001B[49m\u001B[43m)\u001B[49m\n\u001B[1;32m    620\u001B[0m \u001B[38;5;28;01mif\u001B[39;00m chunksize \u001B[38;5;129;01mor\u001B[39;00m iterator:\n\u001B[1;32m    621\u001B[0m     \u001B[38;5;28;01mreturn\u001B[39;00m parser\n",
      "File \u001B[0;32m~/Developer/TestingProject/.venv/lib/python3.9/site-packages/pandas/io/parsers/readers.py:1618\u001B[0m, in \u001B[0;36mTextFileReader.__init__\u001B[0;34m(self, f, engine, **kwds)\u001B[0m\n\u001B[1;32m   1615\u001B[0m     \u001B[38;5;28mself\u001B[39m\u001B[38;5;241m.\u001B[39moptions[\u001B[38;5;124m\"\u001B[39m\u001B[38;5;124mhas_index_names\u001B[39m\u001B[38;5;124m\"\u001B[39m] \u001B[38;5;241m=\u001B[39m kwds[\u001B[38;5;124m\"\u001B[39m\u001B[38;5;124mhas_index_names\u001B[39m\u001B[38;5;124m\"\u001B[39m]\n\u001B[1;32m   1617\u001B[0m \u001B[38;5;28mself\u001B[39m\u001B[38;5;241m.\u001B[39mhandles: IOHandles \u001B[38;5;241m|\u001B[39m \u001B[38;5;28;01mNone\u001B[39;00m \u001B[38;5;241m=\u001B[39m \u001B[38;5;28;01mNone\u001B[39;00m\n\u001B[0;32m-> 1618\u001B[0m \u001B[38;5;28mself\u001B[39m\u001B[38;5;241m.\u001B[39m_engine \u001B[38;5;241m=\u001B[39m \u001B[38;5;28;43mself\u001B[39;49m\u001B[38;5;241;43m.\u001B[39;49m\u001B[43m_make_engine\u001B[49m\u001B[43m(\u001B[49m\u001B[43mf\u001B[49m\u001B[43m,\u001B[49m\u001B[43m \u001B[49m\u001B[38;5;28;43mself\u001B[39;49m\u001B[38;5;241;43m.\u001B[39;49m\u001B[43mengine\u001B[49m\u001B[43m)\u001B[49m\n",
      "File \u001B[0;32m~/Developer/TestingProject/.venv/lib/python3.9/site-packages/pandas/io/parsers/readers.py:1878\u001B[0m, in \u001B[0;36mTextFileReader._make_engine\u001B[0;34m(self, f, engine)\u001B[0m\n\u001B[1;32m   1876\u001B[0m     \u001B[38;5;28;01mif\u001B[39;00m \u001B[38;5;124m\"\u001B[39m\u001B[38;5;124mb\u001B[39m\u001B[38;5;124m\"\u001B[39m \u001B[38;5;129;01mnot\u001B[39;00m \u001B[38;5;129;01min\u001B[39;00m mode:\n\u001B[1;32m   1877\u001B[0m         mode \u001B[38;5;241m+\u001B[39m\u001B[38;5;241m=\u001B[39m \u001B[38;5;124m\"\u001B[39m\u001B[38;5;124mb\u001B[39m\u001B[38;5;124m\"\u001B[39m\n\u001B[0;32m-> 1878\u001B[0m \u001B[38;5;28mself\u001B[39m\u001B[38;5;241m.\u001B[39mhandles \u001B[38;5;241m=\u001B[39m \u001B[43mget_handle\u001B[49m\u001B[43m(\u001B[49m\n\u001B[1;32m   1879\u001B[0m \u001B[43m    \u001B[49m\u001B[43mf\u001B[49m\u001B[43m,\u001B[49m\n\u001B[1;32m   1880\u001B[0m \u001B[43m    \u001B[49m\u001B[43mmode\u001B[49m\u001B[43m,\u001B[49m\n\u001B[1;32m   1881\u001B[0m \u001B[43m    \u001B[49m\u001B[43mencoding\u001B[49m\u001B[38;5;241;43m=\u001B[39;49m\u001B[38;5;28;43mself\u001B[39;49m\u001B[38;5;241;43m.\u001B[39;49m\u001B[43moptions\u001B[49m\u001B[38;5;241;43m.\u001B[39;49m\u001B[43mget\u001B[49m\u001B[43m(\u001B[49m\u001B[38;5;124;43m\"\u001B[39;49m\u001B[38;5;124;43mencoding\u001B[39;49m\u001B[38;5;124;43m\"\u001B[39;49m\u001B[43m,\u001B[49m\u001B[43m \u001B[49m\u001B[38;5;28;43;01mNone\u001B[39;49;00m\u001B[43m)\u001B[49m\u001B[43m,\u001B[49m\n\u001B[1;32m   1882\u001B[0m \u001B[43m    \u001B[49m\u001B[43mcompression\u001B[49m\u001B[38;5;241;43m=\u001B[39;49m\u001B[38;5;28;43mself\u001B[39;49m\u001B[38;5;241;43m.\u001B[39;49m\u001B[43moptions\u001B[49m\u001B[38;5;241;43m.\u001B[39;49m\u001B[43mget\u001B[49m\u001B[43m(\u001B[49m\u001B[38;5;124;43m\"\u001B[39;49m\u001B[38;5;124;43mcompression\u001B[39;49m\u001B[38;5;124;43m\"\u001B[39;49m\u001B[43m,\u001B[49m\u001B[43m \u001B[49m\u001B[38;5;28;43;01mNone\u001B[39;49;00m\u001B[43m)\u001B[49m\u001B[43m,\u001B[49m\n\u001B[1;32m   1883\u001B[0m \u001B[43m    \u001B[49m\u001B[43mmemory_map\u001B[49m\u001B[38;5;241;43m=\u001B[39;49m\u001B[38;5;28;43mself\u001B[39;49m\u001B[38;5;241;43m.\u001B[39;49m\u001B[43moptions\u001B[49m\u001B[38;5;241;43m.\u001B[39;49m\u001B[43mget\u001B[49m\u001B[43m(\u001B[49m\u001B[38;5;124;43m\"\u001B[39;49m\u001B[38;5;124;43mmemory_map\u001B[39;49m\u001B[38;5;124;43m\"\u001B[39;49m\u001B[43m,\u001B[49m\u001B[43m \u001B[49m\u001B[38;5;28;43;01mFalse\u001B[39;49;00m\u001B[43m)\u001B[49m\u001B[43m,\u001B[49m\n\u001B[1;32m   1884\u001B[0m \u001B[43m    \u001B[49m\u001B[43mis_text\u001B[49m\u001B[38;5;241;43m=\u001B[39;49m\u001B[43mis_text\u001B[49m\u001B[43m,\u001B[49m\n\u001B[1;32m   1885\u001B[0m \u001B[43m    \u001B[49m\u001B[43merrors\u001B[49m\u001B[38;5;241;43m=\u001B[39;49m\u001B[38;5;28;43mself\u001B[39;49m\u001B[38;5;241;43m.\u001B[39;49m\u001B[43moptions\u001B[49m\u001B[38;5;241;43m.\u001B[39;49m\u001B[43mget\u001B[49m\u001B[43m(\u001B[49m\u001B[38;5;124;43m\"\u001B[39;49m\u001B[38;5;124;43mencoding_errors\u001B[39;49m\u001B[38;5;124;43m\"\u001B[39;49m\u001B[43m,\u001B[49m\u001B[43m \u001B[49m\u001B[38;5;124;43m\"\u001B[39;49m\u001B[38;5;124;43mstrict\u001B[39;49m\u001B[38;5;124;43m\"\u001B[39;49m\u001B[43m)\u001B[49m\u001B[43m,\u001B[49m\n\u001B[1;32m   1886\u001B[0m \u001B[43m    \u001B[49m\u001B[43mstorage_options\u001B[49m\u001B[38;5;241;43m=\u001B[39;49m\u001B[38;5;28;43mself\u001B[39;49m\u001B[38;5;241;43m.\u001B[39;49m\u001B[43moptions\u001B[49m\u001B[38;5;241;43m.\u001B[39;49m\u001B[43mget\u001B[49m\u001B[43m(\u001B[49m\u001B[38;5;124;43m\"\u001B[39;49m\u001B[38;5;124;43mstorage_options\u001B[39;49m\u001B[38;5;124;43m\"\u001B[39;49m\u001B[43m,\u001B[49m\u001B[43m \u001B[49m\u001B[38;5;28;43;01mNone\u001B[39;49;00m\u001B[43m)\u001B[49m\u001B[43m,\u001B[49m\n\u001B[1;32m   1887\u001B[0m \u001B[43m\u001B[49m\u001B[43m)\u001B[49m\n\u001B[1;32m   1888\u001B[0m \u001B[38;5;28;01massert\u001B[39;00m \u001B[38;5;28mself\u001B[39m\u001B[38;5;241m.\u001B[39mhandles \u001B[38;5;129;01mis\u001B[39;00m \u001B[38;5;129;01mnot\u001B[39;00m \u001B[38;5;28;01mNone\u001B[39;00m\n\u001B[1;32m   1889\u001B[0m f \u001B[38;5;241m=\u001B[39m \u001B[38;5;28mself\u001B[39m\u001B[38;5;241m.\u001B[39mhandles\u001B[38;5;241m.\u001B[39mhandle\n",
      "File \u001B[0;32m~/Developer/TestingProject/.venv/lib/python3.9/site-packages/pandas/io/common.py:873\u001B[0m, in \u001B[0;36mget_handle\u001B[0;34m(path_or_buf, mode, encoding, compression, memory_map, is_text, errors, storage_options)\u001B[0m\n\u001B[1;32m    868\u001B[0m \u001B[38;5;28;01melif\u001B[39;00m \u001B[38;5;28misinstance\u001B[39m(handle, \u001B[38;5;28mstr\u001B[39m):\n\u001B[1;32m    869\u001B[0m     \u001B[38;5;66;03m# Check whether the filename is to be opened in binary mode.\u001B[39;00m\n\u001B[1;32m    870\u001B[0m     \u001B[38;5;66;03m# Binary mode does not support 'encoding' and 'newline'.\u001B[39;00m\n\u001B[1;32m    871\u001B[0m     \u001B[38;5;28;01mif\u001B[39;00m ioargs\u001B[38;5;241m.\u001B[39mencoding \u001B[38;5;129;01mand\u001B[39;00m \u001B[38;5;124m\"\u001B[39m\u001B[38;5;124mb\u001B[39m\u001B[38;5;124m\"\u001B[39m \u001B[38;5;129;01mnot\u001B[39;00m \u001B[38;5;129;01min\u001B[39;00m ioargs\u001B[38;5;241m.\u001B[39mmode:\n\u001B[1;32m    872\u001B[0m         \u001B[38;5;66;03m# Encoding\u001B[39;00m\n\u001B[0;32m--> 873\u001B[0m         handle \u001B[38;5;241m=\u001B[39m \u001B[38;5;28;43mopen\u001B[39;49m\u001B[43m(\u001B[49m\n\u001B[1;32m    874\u001B[0m \u001B[43m            \u001B[49m\u001B[43mhandle\u001B[49m\u001B[43m,\u001B[49m\n\u001B[1;32m    875\u001B[0m \u001B[43m            \u001B[49m\u001B[43mioargs\u001B[49m\u001B[38;5;241;43m.\u001B[39;49m\u001B[43mmode\u001B[49m\u001B[43m,\u001B[49m\n\u001B[1;32m    876\u001B[0m \u001B[43m            \u001B[49m\u001B[43mencoding\u001B[49m\u001B[38;5;241;43m=\u001B[39;49m\u001B[43mioargs\u001B[49m\u001B[38;5;241;43m.\u001B[39;49m\u001B[43mencoding\u001B[49m\u001B[43m,\u001B[49m\n\u001B[1;32m    877\u001B[0m \u001B[43m            \u001B[49m\u001B[43merrors\u001B[49m\u001B[38;5;241;43m=\u001B[39;49m\u001B[43merrors\u001B[49m\u001B[43m,\u001B[49m\n\u001B[1;32m    878\u001B[0m \u001B[43m            \u001B[49m\u001B[43mnewline\u001B[49m\u001B[38;5;241;43m=\u001B[39;49m\u001B[38;5;124;43m\"\u001B[39;49m\u001B[38;5;124;43m\"\u001B[39;49m\u001B[43m,\u001B[49m\n\u001B[1;32m    879\u001B[0m \u001B[43m        \u001B[49m\u001B[43m)\u001B[49m\n\u001B[1;32m    880\u001B[0m     \u001B[38;5;28;01melse\u001B[39;00m:\n\u001B[1;32m    881\u001B[0m         \u001B[38;5;66;03m# Binary mode\u001B[39;00m\n\u001B[1;32m    882\u001B[0m         handle \u001B[38;5;241m=\u001B[39m \u001B[38;5;28mopen\u001B[39m(handle, ioargs\u001B[38;5;241m.\u001B[39mmode)\n",
      "\u001B[0;31mFileNotFoundError\u001B[0m: [Errno 2] No such file or directory: '../../data/Experiment_persoon_geslacht_vrouw/0.csv'"
     ]
    }
   ],
   "execution_count": 8
  },
  {
   "cell_type": "code",
   "metadata": {
    "ExecuteTime": {
     "end_time": "2024-12-11T01:30:04.116450Z",
     "start_time": "2024-12-11T01:30:04.113893Z"
    }
   },
   "source": [
    "def filter_features(features, keywords):\n",
    "    return [feature for feature in features if any(keyword in feature for keyword in keywords)]"
   ],
   "outputs": [],
   "execution_count": 12
  },
  {
   "metadata": {
    "ExecuteTime": {
     "end_time": "2024-12-11T01:30:05.769998Z",
     "start_time": "2024-12-11T01:30:05.747461Z"
    }
   },
   "cell_type": "code",
   "source": [
    "X = df.drop(['checked', 'Ja', 'Nee'], axis=1)\n",
    "y = df['checked']"
   ],
   "outputs": [],
   "execution_count": 13
  },
  {
   "metadata": {
    "ExecuteTime": {
     "end_time": "2024-12-11T01:37:07.945378Z",
     "start_time": "2024-12-11T01:37:07.942051Z"
    }
   },
   "cell_type": "code",
   "source": [
    "filtered_features = filter_features(X.columns, [\"adres\", \"taal\", \"geslacht\", \"leeftijd\", \"persoonlijke\"])\n",
    "print(len(filtered_features))\n",
    "print(filtered_features)"
   ],
   "outputs": [
    {
     "name": "stdout",
     "output_type": "stream",
     "text": [
      "69\n",
      "['adres_aantal_brp_adres', 'adres_aantal_verschillende_wijken', 'adres_aantal_verzendadres', 'adres_aantal_woonadres_handmatig', 'adres_dagen_op_adres', 'adres_recentst_onderdeel_rdam', 'adres_recentste_buurt_groot_ijsselmonde', 'adres_recentste_buurt_nieuwe_westen', 'adres_recentste_buurt_other', 'adres_recentste_buurt_oude_noorden', 'adres_recentste_buurt_vreewijk', 'adres_recentste_plaats_other', 'adres_recentste_plaats_rotterdam', 'adres_recentste_wijk_charlois', 'adres_recentste_wijk_delfshaven', 'adres_recentste_wijk_feijenoord', 'adres_recentste_wijk_ijsselmonde', 'adres_recentste_wijk_kralingen_c', 'adres_recentste_wijk_noord', 'adres_recentste_wijk_other', 'adres_recentste_wijk_prins_alexa', 'adres_recentste_wijk_stadscentru', 'adres_unieke_wijk_ratio', 'afspraak_afgelopen_jaar_monitoring_insp__wet_taaleis_na_12_mnd_n_a_v__taa04_____geen_maatregel', 'afspraak_afgelopen_jaar_ontheffing_taaleis', 'afspraak_verzenden_beschikking_i_v_m__niet_voldoen_aan_wet_taaleis', 'belemmering_hist_taal', 'contacten_onderwerp_beoordelen_taaleis', 'contacten_onderwerp_boolean_beoordelen_taaleis', 'contacten_onderwerp_boolean_taaleis___voldoet', 'persoon_geslacht_vrouw', 'persoon_leeftijd_bij_onderzoek', 'persoonlijke_eigenschappen_communicatie_opm', 'persoonlijke_eigenschappen_dagen_sinds_opvoer', 'persoonlijke_eigenschappen_dagen_sinds_taaleis', 'persoonlijke_eigenschappen_doorzettingsvermogen_opm', 'persoonlijke_eigenschappen_flexibiliteit_opm', 'persoonlijke_eigenschappen_hobbies_sport', 'persoonlijke_eigenschappen_houding_opm', 'persoonlijke_eigenschappen_ind_activering_traject', 'persoonlijke_eigenschappen_ind_buiten_kantoortijden', 'persoonlijke_eigenschappen_ind_regulier_arbeidsritme', 'persoonlijke_eigenschappen_initiatief_opm', 'persoonlijke_eigenschappen_leergierigheid_opm', 'persoonlijke_eigenschappen_motivatie_opm', 'persoonlijke_eigenschappen_nl_begrijpen3', 'persoonlijke_eigenschappen_nl_lezen3', 'persoonlijke_eigenschappen_nl_lezen4', 'persoonlijke_eigenschappen_nl_schrijven0', 'persoonlijke_eigenschappen_nl_schrijven1', 'persoonlijke_eigenschappen_nl_schrijven2', 'persoonlijke_eigenschappen_nl_schrijven3', 'persoonlijke_eigenschappen_nl_schrijvenfalse', 'persoonlijke_eigenschappen_nl_spreken1', 'persoonlijke_eigenschappen_nl_spreken2', 'persoonlijke_eigenschappen_nl_spreken3', 'persoonlijke_eigenschappen_opstelling', 'persoonlijke_eigenschappen_overige_opmerkingen', 'persoonlijke_eigenschappen_presentatie_opm', 'persoonlijke_eigenschappen_spreektaal', 'persoonlijke_eigenschappen_spreektaal_anders', 'persoonlijke_eigenschappen_taaleis_schrijfv_ok', 'persoonlijke_eigenschappen_taaleis_voldaan', 'persoonlijke_eigenschappen_uiterlijke_verzorging_opm', 'persoonlijke_eigenschappen_uitstroom_verw_vlgs_klant', 'persoonlijke_eigenschappen_uitstroom_verw_vlgs_km', 'persoonlijke_eigenschappen_zelfstandigheid_opm', 'relatie_kind_leeftijd_verschil_ouder_eerste_kind', 'relatie_partner_totaal_dagen_partner']\n"
     ]
    }
   ],
   "execution_count": 17
  }
 ],
 "metadata": {
  "kernelspec": {
   "display_name": ".venv",
   "language": "python",
   "name": "python3"
  },
  "language_info": {
   "codemirror_mode": {
    "name": "ipython",
    "version": 3
   },
   "file_extension": ".py",
   "mimetype": "text/x-python",
   "name": "python",
   "nbconvert_exporter": "python",
   "pygments_lexer": "ipython3",
   "version": "3.9.6"
  }
 },
 "nbformat": 4,
 "nbformat_minor": 2
}
