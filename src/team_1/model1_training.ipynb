{
 "cells": [
  {
   "cell_type": "code",
   "execution_count": null,
   "id": "initial_id",
   "metadata": {
    "collapsed": true
   },
   "outputs": [],
   "source": [
    "from src.utils.train_utils import *\n",
    "from src.utils.test_utils import *\n",
    "from src.utils.feature_analyzer import *\n",
    "from src.utils.plot_utils import *"
   ]
  },
  {
   "cell_type": "markdown",
   "source": [
    "### Import the data"
   ],
   "metadata": {
    "collapsed": false
   },
   "id": "46359c7e4211ac57"
  },
  {
   "cell_type": "code",
   "execution_count": null,
   "outputs": [],
   "source": [
    "train_df_path = '../../data/synth_data_train_labeled.csv'\n",
    "test_df_path = '../../data/synth_data_test_labeled.csv'\n",
    "fi_dir = 'feature_importance'\n",
    "target_model_dir = \"../../model\""
   ],
   "metadata": {
    "collapsed": false
   },
   "id": "715cefb2a78f3eb5"
  },
  {
   "cell_type": "code",
   "execution_count": null,
   "outputs": [],
   "source": [
    "cols_to_drop = ['checked', 'Ja', 'Nee']\n",
    "train_df = add_checked(pd.read_csv(train_df_path))\n",
    "X_train = train_df.astype(np.float32)\n",
    "y_train = train_df['checked']"
   ],
   "metadata": {
    "collapsed": false
   },
   "id": "994cf6760b327a9"
  },
  {
   "cell_type": "code",
   "execution_count": null,
   "outputs": [],
   "source": [
    "test_df = add_checked(pd.read_csv(test_df_path))\n",
    "X_test = test_df.drop(cols_to_drop, axis=1)\n",
    "X_test = X_test.astype(np.float32)\n",
    "y_test = test_df['checked']"
   ],
   "metadata": {
    "collapsed": false
   },
   "id": "27938ffc0d5a54ef"
  },
  {
   "cell_type": "markdown",
   "source": [
    "### Manipulate the data"
   ],
   "metadata": {
    "collapsed": false
   },
   "id": "7516ba982beb6066"
  },
  {
   "cell_type": "code",
   "execution_count": null,
   "outputs": [],
   "source": [
    "# Manipulate the data to reduce/increase bias\n",
    "def data_manipulator(X, y):\n",
    "    ########INSERT DATA MANIPULATION CODE HERE##########\n",
    "    \n",
    "    problem_features = filter_features(X.columns)\n",
    "    \n",
    "    for feature in problem_features:\n",
    "        X[feature] = X[feature].mean() # Average values of problematic features to effectively 'remove' them from the model\n",
    "    return X, y\n",
    "    ####################################################\n",
    "\n",
    "X_prime, y_prime = data_manipulator(X_train, y_train)\n",
    "\n",
    "X_prime.head()"
   ],
   "metadata": {
    "collapsed": false
   },
   "id": "8214dbc1b1326498"
  },
  {
   "cell_type": "markdown",
   "source": [
    "### Evaluate feature importances"
   ],
   "metadata": {
    "collapsed": false
   },
   "id": "5dfeff3114dde772"
  },
  {
   "cell_type": "code",
   "execution_count": null,
   "outputs": [],
   "source": [
    "fa = FeatureAnalyzer()\n",
    "latest_ver_name = get_versioned_name(fi_dir, 'fi_v', '.pkl', create_new=False) # set to true to create new version\n",
    "latest_ver_path = fi_dir + '/' + latest_ver_name\n",
    "# fa.evaluate_importance(dataframe=X_prime, target='checked', add_drop=['Ja', 'Nee'], filepath=latest_ver_path) # Uncomment this line if you don't have the feature_importance.pkl file"
   ],
   "metadata": {
    "collapsed": false
   },
   "id": "4e214d7bb2d6d408"
  },
  {
   "cell_type": "code",
   "execution_count": null,
   "outputs": [],
   "source": [
    "if all(col in X_prime.columns for col in cols_to_drop):\n",
    "    X_prime = X_prime.drop(['checked', 'Ja', 'Nee'], axis=1)\n",
    "    \n",
    "print(f'Loading feature importance data from {latest_ver_name}')\n",
    "\n",
    "print(latest_ver_path)"
   ],
   "metadata": {
    "collapsed": false
   },
   "id": "6b8038f24925cd37"
  },
  {
   "cell_type": "code",
   "execution_count": null,
   "outputs": [],
   "source": [
    "fa.load_importance(filepath='feature_importance/fi_v0.pkl')\n",
    "fa.plot_importance(column_names=X_prime.columns, min_val=0.01)"
   ],
   "metadata": {
    "collapsed": false
   },
   "id": "d431883b04cb51d0"
  },
  {
   "cell_type": "code",
   "execution_count": null,
   "outputs": [],
   "source": [
    "fad = fa.feature_importance_as_dict(column_names=X_prime.columns, normalize=True)\n",
    "sorted_fi = dict(sorted(fad.items(), key=lambda item: item[1], reverse=True)[:10])\n",
    "\n",
    "print(\"Top 10 most important features according to permutation importance:\")\n",
    "for rank, feature in enumerate(sorted_fi):\n",
    "    print(f'{rank+1}: {feature} - {sorted_fi[feature]:.4f}')"
   ],
   "metadata": {
    "collapsed": false
   },
   "id": "ede5d4446943f9ae"
  },
  {
   "cell_type": "markdown",
   "source": [
    "### Visualize modified data distributions"
   ],
   "metadata": {
    "collapsed": false
   },
   "id": "5c3a863654a4895"
  },
  {
   "cell_type": "code",
   "execution_count": null,
   "outputs": [],
   "source": [
    "X_en, top_features_en = translate_cols(X_prime, sorted_fi)\n",
    "top_features_en"
   ],
   "metadata": {
    "collapsed": false
   },
   "id": "bcb8b84a817e5a3"
  },
  {
   "cell_type": "code",
   "execution_count": null,
   "outputs": [],
   "source": [
    "for feature in top_features_en.keys():\n",
    "    plot_distribution(X_en[feature], feature)"
   ],
   "metadata": {
    "collapsed": false
   },
   "id": "13e3137270cc0d56"
  },
  {
   "cell_type": "markdown",
   "source": [
    "### Train model on modified data"
   ],
   "metadata": {
    "collapsed": false
   },
   "id": "782124376f6673ea"
  },
  {
   "cell_type": "code",
   "execution_count": null,
   "outputs": [],
   "source": [
    "model_path = target_model_dir + '/' + get_versioned_name(target_model_dir, 'gboost1_v', '.onnx', create_new=False) # set to true to create new version\n",
    "run(X_prime, y_prime, model_path)"
   ],
   "metadata": {
    "collapsed": false
   },
   "id": "3074b77f97fe1e51"
  },
  {
   "cell_type": "code",
   "execution_count": null,
   "outputs": [],
   "source": [
    "# Let's load the model\n",
    "new_session = rt.InferenceSession(model_path)\n",
    "\n",
    "# Let's predict the target\n",
    "y_pred_onnx =  new_session.run(None, {'X': X_test.values.astype(np.float32)})\n",
    "\n",
    "accuracy_onnx_model = accuracy_score(y_test, y_pred_onnx[0])\n",
    "print('Accuracy of the ONNX model: ', accuracy_onnx_model)"
   ],
   "metadata": {
    "collapsed": false
   },
   "id": "532af4e6c417a39c"
  }
 ],
 "metadata": {
  "kernelspec": {
   "display_name": "Python 3",
   "language": "python",
   "name": "python3"
  },
  "language_info": {
   "codemirror_mode": {
    "name": "ipython",
    "version": 2
   },
   "file_extension": ".py",
   "mimetype": "text/x-python",
   "name": "python",
   "nbconvert_exporter": "python",
   "pygments_lexer": "ipython2",
   "version": "2.7.6"
  }
 },
 "nbformat": 4,
 "nbformat_minor": 5
}
