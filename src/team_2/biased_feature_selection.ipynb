{
 "cells": [
  {
   "cell_type": "code",
   "id": "initial_id",
   "metadata": {
    "collapsed": true,
    "ExecuteTime": {
     "end_time": "2024-12-11T18:38:23.976371Z",
     "start_time": "2024-12-11T18:38:23.422407Z"
    }
   },
   "source": [
    "import pandas as pd\n",
    "import numpy as np\n",
    "import matplotlib.pyplot as plt\n",
    "import matplotlib.colors as mcolors\n",
    "from matplotlib_venn import venn2\n",
    "from src.tests.team_2.model_trainer_2 import load_data\n",
    "from src.tests.team_2.model_trainer_2 import retrain\n",
    "from src.utils.feature_analyzer import *\n",
    "from src.utils.preprocessing import *\n",
    "from src.utils.other_utils import *\n",
    "from src.utils.test_utils import *\n",
    "\n"
   ],
   "outputs": [],
   "execution_count": 1
  },
  {
   "metadata": {
    "ExecuteTime": {
     "end_time": "2024-12-11T18:38:23.981066Z",
     "start_time": "2024-12-11T18:38:23.979456Z"
    }
   },
   "cell_type": "code",
   "source": [
    "###PIPELINE###\n",
    "# 1 load training data\n",
    "# 2 evaluate feature importance with permutation feature\n",
    "# 3 select feature to create a test for bias\n",
    "# 4 train model\n",
    "# 5 test if there is actually bias\n",
    "# 6 choose that feature or not.\n",
    "# 7 remove feature from training data\n",
    "# 8 repeat (2-7) until we have 5 features we believe have the most bias\n",
    "\n"
   ],
   "id": "8fd08f2a3a17ead5",
   "outputs": [],
   "execution_count": 2
  },
  {
   "metadata": {
    "ExecuteTime": {
     "end_time": "2024-12-11T18:38:24.060636Z",
     "start_time": "2024-12-11T18:38:24.058972Z"
    }
   },
   "cell_type": "code",
   "source": "biased_features = []",
   "id": "14be5beec2074ad2",
   "outputs": [],
   "execution_count": 3
  },
  {
   "metadata": {
    "ExecuteTime": {
     "end_time": "2024-12-11T18:38:25.102386Z",
     "start_time": "2024-12-11T18:38:24.070537Z"
    }
   },
   "cell_type": "code",
   "source": [
    "###LOAD DATA\n",
    "RANDOM_STATE = 42\n",
    "\n",
    "# Load in data (go back two parent directories)\n",
    "df = pd.read_csv('../../data/investigation_train_large_checked.csv')\n",
    "# Load in data descriptions\n",
    "data_desc = pd.read_csv('../../data/data_description.csv', encoding='ISO-8859-1')\n",
    "\n",
    "# Replace dutch for english names\n",
    "name_mapping = dict(zip(data_desc['Feature (nl)'], data_desc['Feature (en)']))\n",
    "# Rename the columns in the `data` DataFrame\n",
    "df.rename(columns=name_mapping, inplace=True)\n",
    "\n",
    "# Show data head\n",
    "df.head()\n"
   ],
   "id": "282a4224ca8e3448",
   "outputs": [
    {
     "data": {
      "text/plain": [
       "   address_number_personal_records_database_addresses  \\\n",
       "0                                                  1    \n",
       "1                                                  4    \n",
       "2                                                  6    \n",
       "3                                                  3    \n",
       "4                                                  3    \n",
       "\n",
       "   address_number_different_districts  address_number_mail_address  \\\n",
       "0                                   1                            0   \n",
       "1                                   2                            1   \n",
       "2                                   4                            2   \n",
       "3                                   2                            0   \n",
       "4                                   2                            0   \n",
       "\n",
       "   address_number_residential_address_manual  address_days_at_address  \\\n",
       "0                                          0                    23240   \n",
       "1                                          1                     1971   \n",
       "2                                          1                     7247   \n",
       "3                                          1                     8060   \n",
       "4                                          0                    18705   \n",
       "\n",
       "   address_latest_part_rotterdam  \\\n",
       "0                              1   \n",
       "1                              1   \n",
       "2                              0   \n",
       "3                              1   \n",
       "4                              1   \n",
       "\n",
       "   address_latest_neighborhood_groot_ijsselmonde  \\\n",
       "0                                              0   \n",
       "1                                              0   \n",
       "2                                              0   \n",
       "3                                              0   \n",
       "4                                              0   \n",
       "\n",
       "   address_latest_neighborhood_new_westen  address_latest_neighborhood_other  \\\n",
       "0                                       0                                  0   \n",
       "1                                       0                                  1   \n",
       "2                                       0                                  1   \n",
       "3                                       0                                  1   \n",
       "4                                       0                                  0   \n",
       "\n",
       "   address_latest_neighborhood_olde_north  ...  type_hist_ind  \\\n",
       "0                                       0  ...              1   \n",
       "1                                       0  ...              1   \n",
       "2                                       0  ...              1   \n",
       "3                                       0  ...              1   \n",
       "4                                       0  ...              1   \n",
       "\n",
       "   type_hist_care_sector  type_ind  type_indication_secret_data  type_other  \\\n",
       "0                      0         0                            0           0   \n",
       "1                      0         1                            0           1   \n",
       "2                      0         1                            0           0   \n",
       "3                      0         0                            0           0   \n",
       "4                      0         1                            0           0   \n",
       "\n",
       "   type_transport_logistics_horticulture  type_care_cleaning_wellbeing  \\\n",
       "0                                      0                             0   \n",
       "1                                      0                             0   \n",
       "2                                      0                             0   \n",
       "3                                      0                             0   \n",
       "4                                      0                             0   \n",
       "\n",
       "         Ja       Nee  checked  \n",
       "0  0.617698  0.382302    False  \n",
       "1  0.602167  0.397833    False  \n",
       "2  0.512377  0.487623    False  \n",
       "3  0.717796  0.282204     True  \n",
       "4  0.705484  0.294516     True  \n",
       "\n",
       "[5 rows x 318 columns]"
      ],
      "text/html": [
       "<div>\n",
       "<style scoped>\n",
       "    .dataframe tbody tr th:only-of-type {\n",
       "        vertical-align: middle;\n",
       "    }\n",
       "\n",
       "    .dataframe tbody tr th {\n",
       "        vertical-align: top;\n",
       "    }\n",
       "\n",
       "    .dataframe thead th {\n",
       "        text-align: right;\n",
       "    }\n",
       "</style>\n",
       "<table border=\"1\" class=\"dataframe\">\n",
       "  <thead>\n",
       "    <tr style=\"text-align: right;\">\n",
       "      <th></th>\n",
       "      <th>address_number_personal_records_database_addresses</th>\n",
       "      <th>address_number_different_districts</th>\n",
       "      <th>address_number_mail_address</th>\n",
       "      <th>address_number_residential_address_manual</th>\n",
       "      <th>address_days_at_address</th>\n",
       "      <th>address_latest_part_rotterdam</th>\n",
       "      <th>address_latest_neighborhood_groot_ijsselmonde</th>\n",
       "      <th>address_latest_neighborhood_new_westen</th>\n",
       "      <th>address_latest_neighborhood_other</th>\n",
       "      <th>address_latest_neighborhood_olde_north</th>\n",
       "      <th>...</th>\n",
       "      <th>type_hist_ind</th>\n",
       "      <th>type_hist_care_sector</th>\n",
       "      <th>type_ind</th>\n",
       "      <th>type_indication_secret_data</th>\n",
       "      <th>type_other</th>\n",
       "      <th>type_transport_logistics_horticulture</th>\n",
       "      <th>type_care_cleaning_wellbeing</th>\n",
       "      <th>Ja</th>\n",
       "      <th>Nee</th>\n",
       "      <th>checked</th>\n",
       "    </tr>\n",
       "  </thead>\n",
       "  <tbody>\n",
       "    <tr>\n",
       "      <th>0</th>\n",
       "      <td>1</td>\n",
       "      <td>1</td>\n",
       "      <td>0</td>\n",
       "      <td>0</td>\n",
       "      <td>23240</td>\n",
       "      <td>1</td>\n",
       "      <td>0</td>\n",
       "      <td>0</td>\n",
       "      <td>0</td>\n",
       "      <td>0</td>\n",
       "      <td>...</td>\n",
       "      <td>1</td>\n",
       "      <td>0</td>\n",
       "      <td>0</td>\n",
       "      <td>0</td>\n",
       "      <td>0</td>\n",
       "      <td>0</td>\n",
       "      <td>0</td>\n",
       "      <td>0.617698</td>\n",
       "      <td>0.382302</td>\n",
       "      <td>False</td>\n",
       "    </tr>\n",
       "    <tr>\n",
       "      <th>1</th>\n",
       "      <td>4</td>\n",
       "      <td>2</td>\n",
       "      <td>1</td>\n",
       "      <td>1</td>\n",
       "      <td>1971</td>\n",
       "      <td>1</td>\n",
       "      <td>0</td>\n",
       "      <td>0</td>\n",
       "      <td>1</td>\n",
       "      <td>0</td>\n",
       "      <td>...</td>\n",
       "      <td>1</td>\n",
       "      <td>0</td>\n",
       "      <td>1</td>\n",
       "      <td>0</td>\n",
       "      <td>1</td>\n",
       "      <td>0</td>\n",
       "      <td>0</td>\n",
       "      <td>0.602167</td>\n",
       "      <td>0.397833</td>\n",
       "      <td>False</td>\n",
       "    </tr>\n",
       "    <tr>\n",
       "      <th>2</th>\n",
       "      <td>6</td>\n",
       "      <td>4</td>\n",
       "      <td>2</td>\n",
       "      <td>1</td>\n",
       "      <td>7247</td>\n",
       "      <td>0</td>\n",
       "      <td>0</td>\n",
       "      <td>0</td>\n",
       "      <td>1</td>\n",
       "      <td>0</td>\n",
       "      <td>...</td>\n",
       "      <td>1</td>\n",
       "      <td>0</td>\n",
       "      <td>1</td>\n",
       "      <td>0</td>\n",
       "      <td>0</td>\n",
       "      <td>0</td>\n",
       "      <td>0</td>\n",
       "      <td>0.512377</td>\n",
       "      <td>0.487623</td>\n",
       "      <td>False</td>\n",
       "    </tr>\n",
       "    <tr>\n",
       "      <th>3</th>\n",
       "      <td>3</td>\n",
       "      <td>2</td>\n",
       "      <td>0</td>\n",
       "      <td>1</td>\n",
       "      <td>8060</td>\n",
       "      <td>1</td>\n",
       "      <td>0</td>\n",
       "      <td>0</td>\n",
       "      <td>1</td>\n",
       "      <td>0</td>\n",
       "      <td>...</td>\n",
       "      <td>1</td>\n",
       "      <td>0</td>\n",
       "      <td>0</td>\n",
       "      <td>0</td>\n",
       "      <td>0</td>\n",
       "      <td>0</td>\n",
       "      <td>0</td>\n",
       "      <td>0.717796</td>\n",
       "      <td>0.282204</td>\n",
       "      <td>True</td>\n",
       "    </tr>\n",
       "    <tr>\n",
       "      <th>4</th>\n",
       "      <td>3</td>\n",
       "      <td>2</td>\n",
       "      <td>0</td>\n",
       "      <td>0</td>\n",
       "      <td>18705</td>\n",
       "      <td>1</td>\n",
       "      <td>0</td>\n",
       "      <td>0</td>\n",
       "      <td>0</td>\n",
       "      <td>0</td>\n",
       "      <td>...</td>\n",
       "      <td>1</td>\n",
       "      <td>0</td>\n",
       "      <td>1</td>\n",
       "      <td>0</td>\n",
       "      <td>0</td>\n",
       "      <td>0</td>\n",
       "      <td>0</td>\n",
       "      <td>0.705484</td>\n",
       "      <td>0.294516</td>\n",
       "      <td>True</td>\n",
       "    </tr>\n",
       "  </tbody>\n",
       "</table>\n",
       "<p>5 rows × 318 columns</p>\n",
       "</div>"
      ]
     },
     "execution_count": 4,
     "metadata": {},
     "output_type": "execute_result"
    }
   ],
   "execution_count": 4
  },
  {
   "metadata": {
    "ExecuteTime": {
     "end_time": "2024-12-11T18:38:25.144572Z",
     "start_time": "2024-12-11T18:38:25.140802Z"
    }
   },
   "cell_type": "code",
   "source": [
    "def analyze_features(data, cache, filename):\n",
    "    fa = FeatureAnalyzer()\n",
    "    if cache:\n",
    "        fa.evaluate_importance(dataframe=data, target='checked', add_drop=['Ja', 'Nee'], filename=filename)\n",
    "    fa = FeatureAnalyzer()\n",
    "    fa.load_importance(filepath=filename)\n",
    "\n",
    "    # Select original training data\n",
    "    X = df.drop(['checked', 'Ja', 'Nee'], axis=1)\n",
    "    y = df['checked']\n",
    "    # Convert permutation importance to dictionary\n",
    "    perm_import = fa.feature_importance_as_dict(column_names=X.columns, normalize=True)\n",
    "    # Convert to pd series and sort from high to low\n",
    "    perm_import = pd.Series(perm_import)\n",
    "    # sort from high to low\n",
    "    sorted_perm = perm_import.sort_values(ascending=False)\n",
    "\n",
    "    top_5 = sorted_perm.head(5)\n",
    "    top_5_sorted = top_5.sort_values(ascending=True)\n",
    "\n",
    "    # Set the figure size for better readability\n",
    "    plt.figure(figsize=(12, 8))\n",
    "\n",
    "    # Create a horizontal bar chart\n",
    "    top_5_sorted.plot(kind='barh', color='skyblue')\n",
    "\n",
    "    # Add titles and labels\n",
    "    plt.title('Top 5 Feature based on Permutation Importances', fontsize=16)\n",
    "    plt.xlabel('Importance Score', fontsize=14)\n",
    "    plt.ylabel('Features', fontsize=14)\n",
    "    # Display sorted value\n",
    "    for i, (value, feature) in enumerate(zip(top_5_sorted.values, top_5_sorted.index)):\n",
    "        plt.text(value, i, f' {value:.2f}', va='center')\n",
    "    # Enhance layout for better spacing\n",
    "    plt.tight_layout()\n",
    "    # Display the plot\n",
    "    plt.show()\n"
   ],
   "id": "ad92e3f93f62b0ba",
   "outputs": [],
   "execution_count": 5
  },
  {
   "metadata": {
    "ExecuteTime": {
     "end_time": "2024-12-11T18:38:25.204471Z",
     "start_time": "2024-12-11T18:38:25.201610Z"
    }
   },
   "cell_type": "code",
   "source": [
    "def process_bias(data_path, model_path, feature, new_value, is_range):\n",
    "    # change this with your dataset's path\n",
    "    # data_path = '../../../data/Experiment_persoon_leeftijd_bij_onderzoek/20_only.csv'\n",
    "    # model_path = \"../../../model/gboost2.onnx\" # replace with gboost2.onnx if you are working on the bad model\n",
    "    #\n",
    "    # # change this when you want to test a different feature\n",
    "    # feature = 'persoon_leeftijd_bij_onderzoek'\n",
    "    #\n",
    "    # new_vals_range = (26, 68)\n",
    "\n",
    "    if is_range:\n",
    "        acc_original, acc_changed, p_value, dataset_size, original_checked_cnt, changed_checked_cnt = test_bias_with_range(\n",
    "            data_path, model_path, feature, new_value)\n",
    "    else:\n",
    "        acc_original, acc_changed, p_value, dataset_size, original_checked_cnt, changed_checked_cnt = test_bias(\n",
    "            data_path, model_path, feature, new_value)\n",
    "\n",
    "\n",
    "    # Results messages (replace it with your own)\n",
    "    print(f'Accuracy for sample of {dataset_size} Men: {acc_original * 100:.1f}%')\n",
    "    print(f'Accuracy for sample of {dataset_size} Women: {acc_changed * 100:.1f}%')\n",
    "    print(f'Percentage checked amongst 1000 men: {original_checked_cnt * 100 / dataset_size:.1f}%')\n",
    "    print(f'Percentage checked when gender is changed to female: {changed_checked_cnt * 100 / dataset_size:.1f}%')\n",
    "\n",
    "    if p_value < 0.05:\n",
    "        print(f'Model showcases significant bias towards feature - {feature}')"
   ],
   "id": "fe52964b6be2c9b4",
   "outputs": [],
   "execution_count": 6
  },
  {
   "metadata": {
    "ExecuteTime": {
     "end_time": "2024-12-11T18:38:25.422270Z",
     "start_time": "2024-12-11T18:38:25.208357Z"
    }
   },
   "cell_type": "code",
   "source": [
    "#ANALYZE: no features removed\n",
    "analyze_features(df, False, 'feature_importance_1.pkl')"
   ],
   "id": "861303c34e950f",
   "outputs": [
    {
     "data": {
      "text/plain": [
       "<Figure size 1200x800 with 1 Axes>"
      ],
      "image/png": "[encoded data removed]"
     },
     "metadata": {},
     "output_type": "display_data"
    }
   ],
   "execution_count": 7
  },
  {
   "metadata": {
    "ExecuteTime": {
     "end_time": "2024-12-11T18:38:58.345288Z",
     "start_time": "2024-12-11T18:38:25.455913Z"
    }
   },
   "cell_type": "code",
   "source": [
    "###TRAIN: no features removed\n",
    "X, y = load_data('../../data/synth_data_train_labeled.csv')\n",
    "retrain(X, y)\n"
   ],
   "id": "6cbccafdd1be5e9f",
   "outputs": [
    {
     "name": "stdout",
     "output_type": "stream",
     "text": [
      "Model successfully saved to model/gboost2.onnx\n"
     ]
    }
   ],
   "execution_count": 8
  },
  {
   "metadata": {
    "ExecuteTime": {
     "end_time": "2024-12-11T18:38:58.367254Z",
     "start_time": "2024-12-11T18:38:58.350528Z"
    }
   },
   "cell_type": "code",
   "source": [
    "###TEST: bias on age\n",
    "process_bias(\n",
    "    data_path='../../data/Experiment_persoon_leeftijd_bij_onderzoek/20_only.csv',\n",
    "    model_path='model/gboost2.onnx',\n",
    "    feature='persoon_leeftijd_bij_onderzoek',\n",
    "    new_value=(25,68),\n",
    "    is_range=True\n",
    ")\n"
   ],
   "id": "cbcdb76f8e1c5ac",
   "outputs": [
    {
     "name": "stdout",
     "output_type": "stream",
     "text": [
      "Accuracy for sample of 500 Men: 85.8%\n",
      "Accuracy for sample of 500 Women: 79.2%\n",
      "Percentage checked amongst 1000 men: 46.4%\n",
      "Percentage checked when gender is changed to female: 36.2%\n",
      "Model showcases significant bias towards feature - persoon_leeftijd_bij_onderzoek\n"
     ]
    }
   ],
   "execution_count": 9
  },
  {
   "metadata": {
    "ExecuteTime": {
     "end_time": "2024-12-11T18:38:58.390607Z",
     "start_time": "2024-12-11T18:38:58.388714Z"
    }
   },
   "cell_type": "code",
   "source": [
    "###FEATURE SELECTION\n",
    "biased_features.append('persoon_leeftijd_bij_onderzoek')"
   ],
   "id": "cf5f3598c1c62b8d",
   "outputs": [],
   "execution_count": 10
  },
  {
   "metadata": {
    "ExecuteTime": {
     "end_time": "2024-12-11T18:38:58.447941Z",
     "start_time": "2024-12-11T18:38:58.403251Z"
    }
   },
   "cell_type": "code",
   "source": "df = df.drop(name_mapping['persoon_leeftijd_bij_onderzoek'], axis=1)",
   "id": "2589d1dcb51bd442",
   "outputs": [],
   "execution_count": 11
  },
  {
   "metadata": {
    "jupyter": {
     "is_executing": true
    },
    "ExecuteTime": {
     "start_time": "2024-12-11T18:39:35.221558Z"
    }
   },
   "cell_type": "code",
   "source": [
    "###REPEAT STEPS\n",
    "analyze_features(df, True, 'feature_importance_2.pkl')"
   ],
   "id": "2ce480798a85d5ba",
   "outputs": [],
   "execution_count": null
  },
  {
   "metadata": {},
   "cell_type": "code",
   "outputs": [],
   "execution_count": null,
   "source": "",
   "id": "e1ce52e6327d02d4"
  }
 ],
 "metadata": {
  "kernelspec": {
   "display_name": "Python 3",
   "language": "python",
   "name": "python3"
  },
  "language_info": {
   "codemirror_mode": {
    "name": "ipython",
    "version": 2
   },
   "file_extension": ".py",
   "mimetype": "text/x-python",
   "name": "python",
   "nbconvert_exporter": "python",
   "pygments_lexer": "ipython2",
   "version": "2.7.6"
  }
 },
 "nbformat": 4,
 "nbformat_minor": 5
}
