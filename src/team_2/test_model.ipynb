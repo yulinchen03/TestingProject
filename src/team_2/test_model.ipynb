{
 "cells": [
  {
   "cell_type": "markdown",
   "metadata": {},
   "source": [
    "# Testing the original model vs biased model"
   ]
  },
  {
   "cell_type": "code",
   "execution_count": 1,
   "metadata": {},
   "outputs": [],
   "source": [
    "# First dependencies\n",
    "from src.tests.team_2.bias_tests import BiasTest\n",
    "import unittest"
   ]
  },
  {
   "cell_type": "markdown",
   "metadata": {},
   "source": [
    "### Actual testing"
   ]
  },
  {
   "cell_type": "code",
   "execution_count": 2,
   "metadata": {},
   "outputs": [
    {
     "name": "stderr",
     "output_type": "stream",
     "text": [
      "test_age_bias (src.tests.team_2.bias_tests.BiasTest.test_age_bias) ... FAIL\n",
      "test_case_high_risk_individual (src.tests.team_2.bias_tests.BiasTest.test_case_high_risk_individual) ... FAIL\n",
      "test_case_immigrant_worker (src.tests.team_2.bias_tests.BiasTest.test_case_immigrant_worker) ... ok\n",
      "test_case_single_mother (src.tests.team_2.bias_tests.BiasTest.test_case_single_mother) ... FAIL\n"
     ]
    },
    {
     "name": "stdout",
     "output_type": "stream",
     "text": [
      "=== Original Model Results ===\n",
      "Accuracy for sample of 500 20 Year Olds: 85.6%\n",
      "Accuracy for sample of 500 50 Year Olds: 82.4%\n",
      "Percentage checked amongst 20 Year Olds: 51.4%\n",
      "Percentage checked changed to 50 Year Olds: 30.6%\n",
      "P value: 1.4291936560334815e-11\n",
      "\n",
      "=== Modified Model Results ===\n",
      "Accuracy for sample of 500 20 Year Olds: 83.6%\n",
      "Accuracy for sample of 500 50 Year Olds: 84.0%\n",
      "Percentage checked amongst 20 Year Olds: 60.6%\n",
      "Percentage checked changed to 50 Year Olds: 34.2%\n",
      "P value: 1.8804816905141735e-17\n",
      "=== Original Model Results ===\n",
      "Accuracy for sample of 500 50 year old men who know Dutch and have no financial difficulties: 99.6%\n",
      "Accuracy for sample of 500 20 year old mother of two who does not know Dutch and struggles to pay bills: 83.6%\n",
      "Percentage checked amongst 50 year old men who know Dutch and have no financial difficulties: 1.0%\n",
      "Percentage checked changed to 20 year old mother of two who does not know Dutch and struggles to pay bills: 17.4%\n",
      "P value: 5.737267355181233e-20\n",
      "\n",
      "=== Modified Model Results ===\n",
      "Accuracy for sample of 500 50 year old men who know Dutch and have no financial difficulties: 99.4%\n",
      "Accuracy for sample of 500 20 year old mother of two who does not know Dutch and struggles to pay bills: 78.4%\n",
      "Percentage checked amongst 50 year old men who know Dutch and have no financial difficulties: 0.8%\n",
      "Percentage checked changed to 20 year old mother of two who does not know Dutch and struggles to pay bills: 22.6%\n",
      "P value: 2.4704017751977966e-28\n",
      "=== Original Model Results ===\n",
      "Accuracy for sample of 500 Average Dutch male: 95.0%\n",
      "Accuracy for sample of 500 Immigrant worker with roommates: 94.4%\n",
      "Percentage checked amongst Average Dutch male: 6.8%\n",
      "Percentage checked changed to Immigrant worker with roommates: 12.6%\n",
      "P value: 0.0019208031340227462\n",
      "\n",
      "=== Modified Model Results ===\n",
      "Accuracy for sample of 500 Average Dutch male: 96.0%\n",
      "Accuracy for sample of 500 Immigrant worker with roommates: 93.0%\n",
      "Percentage checked amongst Average Dutch male: 13.4%\n",
      "Percentage checked changed to Immigrant worker with roommates: 17.2%\n",
      "P value: 0.09529328021231218\n",
      "=== Original Model Results ===\n",
      "Accuracy for sample of 500 Average male with no children: 67.4%\n",
      "Accuracy for sample of 500 Single mother with two children: 45.4%\n",
      "Percentage checked amongst Average male with no children: 41.8%\n",
      "Percentage checked changed to Single mother with two children: 64.2%\n",
      "P value: 7.013881986350266e-13\n",
      "\n",
      "=== Modified Model Results ===\n",
      "Accuracy for sample of 500 Average male with no children: 92.0%\n",
      "Accuracy for sample of 500 Single mother with two children: 70.2%\n",
      "Percentage checked amongst Average male with no children: 15.2%\n",
      "Percentage checked changed to Single mother with two children: 39.4%\n",
      "P value: 2.269774003831157e-18\n"
     ]
    },
    {
     "name": "stderr",
     "output_type": "stream",
     "text": [
      "test_gender_bias (src.tests.team_2.bias_tests.BiasTest.test_gender_bias) ... FAIL\n",
      "test_history_of_development_bias (src.tests.team_2.bias_tests.BiasTest.test_history_of_development_bias) ... FAIL\n",
      "\n",
      "======================================================================\n",
      "FAIL: test_age_bias (src.tests.team_2.bias_tests.BiasTest.test_age_bias)\n",
      "----------------------------------------------------------------------\n",
      "Traceback (most recent call last):\n",
      "  File \"c:\\Users\\alexz\\OneDrive - Delft University of Technology\\SE and Testing AI Systems\\TestingProject\\src\\tests\\team_2\\bias_tests.py\", line 27, in test_age_bias\n",
      "    self._test_bias(\n",
      "  File \"c:\\Users\\alexz\\OneDrive - Delft University of Technology\\SE and Testing AI Systems\\TestingProject\\src\\tests\\team_2\\bias_tests.py\", line 14, in _test_bias\n",
      "    self.assertGreater(p_value_2, 0.05,\n",
      "AssertionError: 1.8804816905141735e-17 not greater than 0.05 : Conclusion: Model showcases significant bias towards feature - ['persoon_leeftijd_bij_onderzoek']\n",
      "\n",
      "======================================================================\n",
      "FAIL: test_case_high_risk_individual (src.tests.team_2.bias_tests.BiasTest.test_case_high_risk_individual)\n",
      "----------------------------------------------------------------------\n",
      "Traceback (most recent call last):\n",
      "  File \"c:\\Users\\alexz\\OneDrive - Delft University of Technology\\SE and Testing AI Systems\\TestingProject\\src\\tests\\team_2\\bias_tests.py\", line 68, in test_case_high_risk_individual\n",
      "    self._test_bias(\n",
      "  File \"c:\\Users\\alexz\\OneDrive - Delft University of Technology\\SE and Testing AI Systems\\TestingProject\\src\\tests\\team_2\\bias_tests.py\", line 14, in _test_bias\n",
      "    self.assertGreater(p_value_2, 0.05,\n",
      "AssertionError: 2.4704017751977966e-28 not greater than 0.05 : Conclusion: Model showcases significant bias towards feature - ['persoon_leeftijd_bij_onderzoek', 'persoon_geslacht_vrouw', 'relatie_kind_huidige_aantal', 'persoonlijke_eigenschappen_taaleis_voldaan', 'belemmering_financiele_problemen']\n",
      "\n",
      "======================================================================\n",
      "FAIL: test_case_single_mother (src.tests.team_2.bias_tests.BiasTest.test_case_single_mother)\n",
      "----------------------------------------------------------------------\n",
      "Traceback (most recent call last):\n",
      "  File \"c:\\Users\\alexz\\OneDrive - Delft University of Technology\\SE and Testing AI Systems\\TestingProject\\src\\tests\\team_2\\bias_tests.py\", line 45, in test_case_single_mother\n",
      "    self._test_bias(\n",
      "  File \"c:\\Users\\alexz\\OneDrive - Delft University of Technology\\SE and Testing AI Systems\\TestingProject\\src\\tests\\team_2\\bias_tests.py\", line 14, in _test_bias\n",
      "    self.assertGreater(p_value_2, 0.05,\n",
      "AssertionError: 2.269774003831157e-18 not greater than 0.05 : Conclusion: Model showcases significant bias towards feature - ['persoon_geslacht_vrouw', 'relatie_partner_huidige_partner___partner__gehuwd_', 'relatie_kind_huidige_aantal', 'belemmering_financiele_problemen', 'competentie_met_druk_en_tegenslag_omgaan', 'persoonlijke_eigenschappen_flexibiliteit_opm', 'persoonlijke_eigenschappen_uiterlijke_verzorging_opm']\n",
      "\n",
      "======================================================================\n",
      "FAIL: test_gender_bias (src.tests.team_2.bias_tests.BiasTest.test_gender_bias)\n",
      "----------------------------------------------------------------------\n",
      "Traceback (most recent call last):\n",
      "  File \"c:\\Users\\alexz\\OneDrive - Delft University of Technology\\SE and Testing AI Systems\\TestingProject\\src\\tests\\team_2\\bias_tests.py\", line 18, in test_gender_bias\n",
      "    self._test_bias(\n",
      "  File \"c:\\Users\\alexz\\OneDrive - Delft University of Technology\\SE and Testing AI Systems\\TestingProject\\src\\tests\\team_2\\bias_tests.py\", line 14, in _test_bias\n",
      "    self.assertGreater(p_value_2, 0.05,\n",
      "AssertionError: 2.426132183580071e-12 not greater than 0.05 : Conclusion: Model showcases significant bias towards feature - ['persoon_geslacht_vrouw']\n",
      "\n",
      "======================================================================\n",
      "FAIL: test_history_of_development_bias (src.tests.team_2.bias_tests.BiasTest.test_history_of_development_bias)\n",
      "----------------------------------------------------------------------\n",
      "Traceback (most recent call last):\n",
      "  File \"c:\\Users\\alexz\\OneDrive - Delft University of Technology\\SE and Testing AI Systems\\TestingProject\\src\\tests\\team_2\\bias_tests.py\", line 36, in test_history_of_development_bias\n",
      "    self._test_bias(\n",
      "  File \"c:\\Users\\alexz\\OneDrive - Delft University of Technology\\SE and Testing AI Systems\\TestingProject\\src\\tests\\team_2\\bias_tests.py\", line 14, in _test_bias\n",
      "    self.assertGreater(p_value_2, 0.05,\n",
      "AssertionError: 0.000891648992072642 not greater than 0.05 : Conclusion: Model showcases significant bias towards feature - ['pla_historie_ontwikkeling']\n",
      "\n",
      "----------------------------------------------------------------------\n",
      "Ran 6 tests in 0.465s\n",
      "\n",
      "FAILED (failures=5)\n"
     ]
    },
    {
     "name": "stdout",
     "output_type": "stream",
     "text": [
      "=== Original Model Results ===\n",
      "Accuracy for sample of 1000 Men: 66.4%\n",
      "Accuracy for sample of 1000 Women: 61.6%\n",
      "Percentage checked amongst Men: 43.7%\n",
      "Percentage checked changed to Women: 48.7%\n",
      "P value: 0.024925028375659342\n",
      "\n",
      "=== Modified Model Results ===\n",
      "Accuracy for sample of 1000 Men: 94.2%\n",
      "Accuracy for sample of 1000 Women: 82.3%\n",
      "Percentage checked amongst Men: 15.5%\n",
      "Percentage checked changed to Women: 28.4%\n",
      "P value: 2.426132183580071e-12\n",
      "=== Original Model Results ===\n",
      "Accuracy for sample of 500 People with no development action plan: 92.6%\n",
      "Accuracy for sample of 500 People with a development action plan: 80.0%\n",
      "Percentage checked amongst People with no development action plan: 41.6%\n",
      "Percentage checked changed to People with a development action plan: 23.4%\n",
      "P value: 5.813868338349266e-10\n",
      "\n",
      "=== Modified Model Results ===\n",
      "Accuracy for sample of 500 People with no development action plan: 95.2%\n",
      "Accuracy for sample of 500 People with a development action plan: 89.8%\n",
      "Percentage checked amongst People with no development action plan: 43.4%\n",
      "Percentage checked changed to People with a development action plan: 33.2%\n",
      "P value: 0.000891648992072642\n"
     ]
    },
    {
     "data": {
      "text/plain": [
       "<unittest.runner.TextTestResult run=6 errors=0 failures=5>"
      ]
     },
     "execution_count": 2,
     "metadata": {},
     "output_type": "execute_result"
    }
   ],
   "source": [
    "# Create a test suite containing all tests from BiasTest\n",
    "suite = unittest.TestLoader().loadTestsFromTestCase(BiasTest)\n",
    "\n",
    "# Run the test suite\n",
    "runner = unittest.TextTestRunner(verbosity=2)\n",
    "runner.run(suite)"
   ]
  }
 ],
 "metadata": {
  "kernelspec": {
   "display_name": "SE_AI",
   "language": "python",
   "name": "python3"
  },
  "language_info": {
   "codemirror_mode": {
    "name": "ipython",
    "version": 3
   },
   "file_extension": ".py",
   "mimetype": "text/x-python",
   "name": "python",
   "nbconvert_exporter": "python",
   "pygments_lexer": "ipython3",
   "version": "3.11.10"
  }
 },
 "nbformat": 4,
 "nbformat_minor": 2
}
